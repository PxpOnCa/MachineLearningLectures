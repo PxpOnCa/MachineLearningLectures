{
 "cells": [
  {
   "cell_type": "code",
   "execution_count": 95,
   "metadata": {
    "collapsed": true
   },
   "outputs": [],
   "source": [
    "%matplotlib inline"
   ]
  },
  {
   "cell_type": "markdown",
   "metadata": {},
   "source": [
    "user-defined LaTeX commands\n",
    "$\\newcommand{\\Er}{\\mathcal{E}}$\n",
    "$\\newcommand{\\Xset}{\\mathcal{X}}$\n",
    "$\\newcommand{\\Yset}{\\mathcal{Y}}$\n",
    "$\\newcommand{\\L}{\\mathcal{L}}$\n",
    "$\\newcommand{\\l}{\\mathcal{l}}$\n",
    "$\\newcommand{\\pr}{\\mathbb{P}}$\n",
    "$\\newcommand{\\E}{\\mathbb{E}}$\n",
    "$\\newcommand{\\D}{\\mathbb{D}}$\n",
    "$\\newcommand{\\w}{\\mathbf{w}}$\n",
    "$\\newcommand{\\X}{\\mathbf{X}}$\n",
    "$\\newcommand{\\y}{\\mathbf{y}}$\n",
    "$\\newcommand{\\x}{\\mathbf{x}}$\n",
    "$\\newcommand{\\J}{\\mathbf{J}}$\n",
    "$\\newcommand{\\I}{\\mathbf{I}}$\n",
    "$\\newcommand{\\X}{\\mathbf{X}}$\n",
    "$\\newcommand{\\S}{\\mathbf{S}}$\n",
    "$\\newcommand{\\e}{\\mathbf{e}}$\n",
    "$\\newcommand{\\C}{\\mathbf{C}}$\n",
    "$\\newcommand{\\K}{\\mathbf{K}}$\n",
    "$\\newcommand{\\R}{\\mathbb{R}}$\n",
    "$\\newcommand{\\v}{\\mathbf{v}}$\n",
    "$\\newcommand{\\phivec}{\\boldsymbol{\\phi}}$\n",
    "$\\newcommand{\\sign}{\\mathrm{sign}}$\n",
    "$\\newcommand{\\F}{\\mathcal{F}}$\n",
    "\n",
    "$\\newcommand{\\tg}{\\mathrm{tg}}$\n",
    "$\\newcommand{\\ctg}{\\mathrm{ctg}}$\n",
    "$\\newcommand{\\arctg}{\\mathrm{arctg}}$\n",
    "$\\newcommand{\\cov}{\\mathrm{cov}}$"
   ]
  },
  {
   "cell_type": "code",
   "execution_count": 2,
   "metadata": {
    "collapsed": true
   },
   "outputs": [],
   "source": [
    "import numpy as np\n",
    "import pandas as pd\n",
    "import matplotlib.pyplot as plt"
   ]
  },
  {
   "cell_type": "code",
   "execution_count": 3,
   "metadata": {
    "collapsed": true
   },
   "outputs": [],
   "source": [
    "from ggplot import *"
   ]
  },
  {
   "cell_type": "code",
   "execution_count": 4,
   "metadata": {
    "collapsed": true
   },
   "outputs": [],
   "source": [
    "from matplotlib.colors import ListedColormap"
   ]
  },
  {
   "cell_type": "code",
   "execution_count": 96,
   "metadata": {
    "collapsed": true
   },
   "outputs": [],
   "source": [
    "from sklearn.datasets import load_iris"
   ]
  },
  {
   "cell_type": "code",
   "execution_count": 97,
   "metadata": {
    "collapsed": false
   },
   "outputs": [],
   "source": [
    "# Data exploration\n",
    "from sklearn import datasets\n",
    "import warnings\n",
    "# Classification\n",
    "from sklearn.model_selection import train_test_split\n",
    "from sklearn.preprocessing import StandardScaler\n",
    "from sklearn.svm import SVC\n",
    "# Regression\n",
    "from sklearn.linear_model import LinearRegression\n",
    "# Clusterization\n",
    "from sklearn.cluster import KMeans\n",
    "from sklearn.metrics import accuracy_score\n",
    "from itertools import permutations\n",
    "# Feature selection\n",
    "from sklearn.svm import LinearSVC\n",
    "from sklearn.feature_selection import SelectFromModel\n",
    "# Learning curve\n",
    "from sklearn.model_selection import learning_curve\n",
    "# Validation curve\n",
    "from sklearn.model_selection import validation_curve\n",
    "# Grid search\n",
    "from sklearn.pipeline import Pipeline\n",
    "from sklearn.grid_search import GridSearchCV"
   ]
  },
  {
   "cell_type": "code",
   "execution_count": 98,
   "metadata": {
    "collapsed": true
   },
   "outputs": [],
   "source": [
    "from sklearn.model_selection import GridSearchCV"
   ]
  },
  {
   "cell_type": "markdown",
   "metadata": {
    "collapsed": true
   },
   "source": [
    "### Learning from the data\n",
    "* **Input variables** usually form a matrix $X\\in \\mathbb{R}^{n\\times d}$ with $n$ observations (data points)\n",
    "and $d$ features (variables). $d$ is called dimensionality of the data.\n",
    "* **Output variables** $Y\\in\\mathbb{R}^{n\\times k}$ - response or dependent variables.\n",
    "\n",
    "#### Example: Iris dataset\n",
    "Iris data set contains information about four features ($d=4$): *sepal length*, *sepal width*, *petal length* \n",
    "and *petal width* for three classes (*Iris-Setosa*, *Iris-Versicolor*, *Iris-Virginica*) with 50 instances each\n",
    "($n=3\\cdot 50=150$). \n",
    "So input variables form matrix $X\\in\\mathbb{R}^{150\\times 4}$ and response is the vector $Y\\in \\mathbb{R}^{150}$, encoding class \n",
    "labels into numbers $\\{0,1,2\\}$."
   ]
  },
  {
   "cell_type": "markdown",
   "metadata": {},
   "source": [
    "### Read Iris dataset and print it's description:"
   ]
  },
  {
   "cell_type": "code",
   "execution_count": 99,
   "metadata": {
    "collapsed": false
   },
   "outputs": [
    {
     "name": "stdout",
     "output_type": "stream",
     "text": [
      "Iris Plants Database\n",
      "====================\n",
      "\n",
      "Notes\n",
      "-----\n",
      "Data Set Characteristics:\n",
      "    :Number of Instances: 150 (50 in each of three classes)\n",
      "    :Number of Attributes: 4 numeric, predictive attributes and the class\n",
      "    :Attribute Information:\n",
      "        - sepal length in cm\n",
      "        - sepal width in cm\n",
      "        - petal length in cm\n",
      "        - petal width in cm\n",
      "        - class:\n",
      "                - Iris-Setosa\n",
      "                - Iris-Versicolour\n",
      "                - Iris-Virginica\n",
      "    :Summary Statistics:\n",
      "\n",
      "    ============== ==== ==== ======= ===== ====================\n",
      "                    Min  Max   Mean    SD   Class Correlation\n",
      "    ============== ==== ==== ======= ===== ====================\n",
      "    sepal length:   4.3  7.9   5.84   0.83    0.7826\n",
      "    sepal width:    2.0  4.4   3.05   0.43   -0.4194\n",
      "    petal length:   1.0  6.9   3.76   1.76    0.9490  (high!)\n",
      "    petal width:    0.1  2.5   1.20  0.76     0.9565  (high!)\n",
      "    ============== ==== ==== ======= ===== ====================\n",
      "\n",
      "    :Missing Attribute Values: None\n",
      "    :Class Distribution: 33.3% for each of 3 classes.\n",
      "    :Creator: R.A. Fisher\n",
      "    :Donor: Michael Marshall (MARSHALL%PLU@io.arc.nasa.gov)\n",
      "    :Date: July, 1988\n",
      "\n",
      "This is a copy of UCI ML iris datasets.\n",
      "http://archive.ics.uci.edu/ml/datasets/Iris\n",
      "\n",
      "The famous Iris database, first used by Sir R.A Fisher\n",
      "\n",
      "This is perhaps the best known database to be found in the\n",
      "pattern recognition literature.  Fisher's paper is a classic in the field and\n",
      "is referenced frequently to this day.  (See Duda & Hart, for example.)  The\n",
      "data set contains 3 classes of 50 instances each, where each class refers to a\n",
      "type of iris plant.  One class is linearly separable from the other 2; the\n",
      "latter are NOT linearly separable from each other.\n",
      "\n",
      "References\n",
      "----------\n",
      "   - Fisher,R.A. \"The use of multiple measurements in taxonomic problems\"\n",
      "     Annual Eugenics, 7, Part II, 179-188 (1936); also in \"Contributions to\n",
      "     Mathematical Statistics\" (John Wiley, NY, 1950).\n",
      "   - Duda,R.O., & Hart,P.E. (1973) Pattern Classification and Scene Analysis.\n",
      "     (Q327.D83) John Wiley & Sons.  ISBN 0-471-22361-1.  See page 218.\n",
      "   - Dasarathy, B.V. (1980) \"Nosing Around the Neighborhood: A New System\n",
      "     Structure and Classification Rule for Recognition in Partially Exposed\n",
      "     Environments\".  IEEE Transactions on Pattern Analysis and Machine\n",
      "     Intelligence, Vol. PAMI-2, No. 1, 67-71.\n",
      "   - Gates, G.W. (1972) \"The Reduced Nearest Neighbor Rule\".  IEEE Transactions\n",
      "     on Information Theory, May 1972, 431-433.\n",
      "   - See also: 1988 MLC Proceedings, 54-64.  Cheeseman et al\"s AUTOCLASS II\n",
      "     conceptual clustering system finds 3 classes in the data.\n",
      "   - Many, many more ...\n",
      "\n"
     ]
    }
   ],
   "source": [
    "# read data set\n",
    "iris = datasets.load_iris()\n",
    "print(iris['DESCR'])"
   ]
  },
  {
   "cell_type": "markdown",
   "metadata": {},
   "source": [
    "#### Set input variables and response:"
   ]
  },
  {
   "cell_type": "code",
   "execution_count": 109,
   "metadata": {
    "collapsed": true
   },
   "outputs": [],
   "source": [
    "# set Input variables...\n",
    "X = iris.data\n",
    "# and response\n",
    "y = iris.target"
   ]
  },
  {
   "cell_type": "code",
   "execution_count": 105,
   "metadata": {
    "collapsed": false
   },
   "outputs": [
    {
     "name": "stdout",
     "output_type": "stream",
     "text": [
      "Feature names:  ['sepal length (cm)', 'sepal width (cm)', 'petal length (cm)', 'petal width (cm)']\n",
      "Target names:  ['setosa' 'versicolor' 'virginica']\n"
     ]
    }
   ],
   "source": [
    "# read response names and feature names\n",
    "labels = iris.get ('target_names')\n",
    "features = iris.get ('feature_names')\n",
    "print('Feature names: ', features)\n",
    "print('Target names: ', labels)"
   ]
  },
  {
   "cell_type": "code",
   "execution_count": 106,
   "metadata": {
    "collapsed": true
   },
   "outputs": [],
   "source": [
    "# make dictionary\n",
    "label_dict = dict (zip (labels, np.unique (iris.target)))\n",
    "feature_dict = dict (zip (list (range (4)), features))"
   ]
  },
  {
   "cell_type": "markdown",
   "metadata": {},
   "source": [
    "### Check the data"
   ]
  },
  {
   "cell_type": "code",
   "execution_count": 107,
   "metadata": {
    "collapsed": false
   },
   "outputs": [],
   "source": [
    "iris_df = pd.DataFrame(iris.data, columns=iris.feature_names)\n",
    "iris_df['class'] = iris.target"
   ]
  },
  {
   "cell_type": "code",
   "execution_count": 113,
   "metadata": {
    "collapsed": false
   },
   "outputs": [
    {
     "data": {
      "text/html": [
       "<div>\n",
       "<table border=\"1\" class=\"dataframe\">\n",
       "  <thead>\n",
       "    <tr style=\"text-align: right;\">\n",
       "      <th></th>\n",
       "      <th>sepal length (cm)</th>\n",
       "      <th>sepal width (cm)</th>\n",
       "      <th>petal length (cm)</th>\n",
       "      <th>petal width (cm)</th>\n",
       "      <th>class</th>\n",
       "    </tr>\n",
       "  </thead>\n",
       "  <tbody>\n",
       "    <tr>\n",
       "      <th>145</th>\n",
       "      <td>6.7</td>\n",
       "      <td>3.0</td>\n",
       "      <td>5.2</td>\n",
       "      <td>2.3</td>\n",
       "      <td>2</td>\n",
       "    </tr>\n",
       "    <tr>\n",
       "      <th>146</th>\n",
       "      <td>6.3</td>\n",
       "      <td>2.5</td>\n",
       "      <td>5.0</td>\n",
       "      <td>1.9</td>\n",
       "      <td>2</td>\n",
       "    </tr>\n",
       "    <tr>\n",
       "      <th>147</th>\n",
       "      <td>6.5</td>\n",
       "      <td>3.0</td>\n",
       "      <td>5.2</td>\n",
       "      <td>2.0</td>\n",
       "      <td>2</td>\n",
       "    </tr>\n",
       "    <tr>\n",
       "      <th>148</th>\n",
       "      <td>6.2</td>\n",
       "      <td>3.4</td>\n",
       "      <td>5.4</td>\n",
       "      <td>2.3</td>\n",
       "      <td>2</td>\n",
       "    </tr>\n",
       "    <tr>\n",
       "      <th>149</th>\n",
       "      <td>5.9</td>\n",
       "      <td>3.0</td>\n",
       "      <td>5.1</td>\n",
       "      <td>1.8</td>\n",
       "      <td>2</td>\n",
       "    </tr>\n",
       "  </tbody>\n",
       "</table>\n",
       "</div>"
      ],
      "text/plain": [
       "     sepal length (cm)  sepal width (cm)  petal length (cm)  petal width (cm)  \\\n",
       "145                6.7               3.0                5.2               2.3   \n",
       "146                6.3               2.5                5.0               1.9   \n",
       "147                6.5               3.0                5.2               2.0   \n",
       "148                6.2               3.4                5.4               2.3   \n",
       "149                5.9               3.0                5.1               1.8   \n",
       "\n",
       "     class  \n",
       "145      2  \n",
       "146      2  \n",
       "147      2  \n",
       "148      2  \n",
       "149      2  "
      ]
     },
     "execution_count": 113,
     "metadata": {},
     "output_type": "execute_result"
    }
   ],
   "source": [
    "iris_df.tail()"
   ]
  },
  {
   "cell_type": "markdown",
   "metadata": {},
   "source": [
    "Spoil the data:"
   ]
  },
  {
   "cell_type": "code",
   "execution_count": 114,
   "metadata": {
    "collapsed": false
   },
   "outputs": [
    {
     "data": {
      "text/html": [
       "<div>\n",
       "<table border=\"1\" class=\"dataframe\">\n",
       "  <thead>\n",
       "    <tr style=\"text-align: right;\">\n",
       "      <th></th>\n",
       "      <th>sepal length (cm)</th>\n",
       "      <th>sepal width (cm)</th>\n",
       "      <th>petal length (cm)</th>\n",
       "      <th>petal width (cm)</th>\n",
       "      <th>class</th>\n",
       "    </tr>\n",
       "  </thead>\n",
       "  <tbody>\n",
       "    <tr>\n",
       "      <th>0</th>\n",
       "      <td>5.1</td>\n",
       "      <td>3.5</td>\n",
       "      <td>1.4</td>\n",
       "      <td>NaN</td>\n",
       "      <td>0</td>\n",
       "    </tr>\n",
       "    <tr>\n",
       "      <th>1</th>\n",
       "      <td>4.9</td>\n",
       "      <td>3.0</td>\n",
       "      <td>1.4</td>\n",
       "      <td>0.2</td>\n",
       "      <td>0</td>\n",
       "    </tr>\n",
       "    <tr>\n",
       "      <th>2</th>\n",
       "      <td>4.7</td>\n",
       "      <td>3.2</td>\n",
       "      <td>1.3</td>\n",
       "      <td>0.2</td>\n",
       "      <td>0</td>\n",
       "    </tr>\n",
       "    <tr>\n",
       "      <th>3</th>\n",
       "      <td>4.6</td>\n",
       "      <td>3.1</td>\n",
       "      <td>1.5</td>\n",
       "      <td>0.2</td>\n",
       "      <td>0</td>\n",
       "    </tr>\n",
       "    <tr>\n",
       "      <th>4</th>\n",
       "      <td>5.0</td>\n",
       "      <td>3.6</td>\n",
       "      <td>1.4</td>\n",
       "      <td>0.2</td>\n",
       "      <td>0</td>\n",
       "    </tr>\n",
       "  </tbody>\n",
       "</table>\n",
       "</div>"
      ],
      "text/plain": [
       "   sepal length (cm)  sepal width (cm)  petal length (cm)  petal width (cm)  \\\n",
       "0                5.1               3.5                1.4               NaN   \n",
       "1                4.9               3.0                1.4               0.2   \n",
       "2                4.7               3.2                1.3               0.2   \n",
       "3                4.6               3.1                1.5               0.2   \n",
       "4                5.0               3.6                1.4               0.2   \n",
       "\n",
       "   class  \n",
       "0      0  \n",
       "1      0  \n",
       "2      0  \n",
       "3      0  \n",
       "4      0  "
      ]
     },
     "execution_count": 114,
     "metadata": {},
     "output_type": "execute_result"
    }
   ],
   "source": [
    "iris_df.loc[0, 'petal width (cm)'] = np.nan\n",
    "iris_df.head()"
   ]
  },
  {
   "cell_type": "markdown",
   "metadata": {},
   "source": [
    "**Spoiled data can cause problems:**"
   ]
  },
  {
   "cell_type": "code",
   "execution_count": 119,
   "metadata": {
    "collapsed": false
   },
   "outputs": [
    {
     "data": {
      "text/plain": [
       "1.2053691275167786"
      ]
     },
     "execution_count": 119,
     "metadata": {},
     "output_type": "execute_result"
    }
   ],
   "source": [
    "np.mean(iris_df['petal width (cm)'].values)"
   ]
  },
  {
   "cell_type": "markdown",
   "metadata": {},
   "source": [
    "**Check missing data, fix the problem**"
   ]
  },
  {
   "cell_type": "code",
   "execution_count": 116,
   "metadata": {
    "collapsed": false
   },
   "outputs": [
    {
     "data": {
      "text/plain": [
       "True"
      ]
     },
     "execution_count": 116,
     "metadata": {},
     "output_type": "execute_result"
    }
   ],
   "source": [
    "# are there NAN's?\n",
    "iris_df['petal width (cm)'].isnull().values.any()"
   ]
  },
  {
   "cell_type": "code",
   "execution_count": 117,
   "metadata": {
    "collapsed": false
   },
   "outputs": [
    {
     "data": {
      "text/plain": [
       "1"
      ]
     },
     "execution_count": 117,
     "metadata": {},
     "output_type": "execute_result"
    }
   ],
   "source": [
    "# how many?\n",
    "iris_df['petal width (cm)'].isnull().sum()"
   ]
  },
  {
   "cell_type": "code",
   "execution_count": 118,
   "metadata": {
    "collapsed": false
   },
   "outputs": [
    {
     "data": {
      "text/html": [
       "<div>\n",
       "<table border=\"1\" class=\"dataframe\">\n",
       "  <thead>\n",
       "    <tr style=\"text-align: right;\">\n",
       "      <th></th>\n",
       "      <th>sepal length (cm)</th>\n",
       "      <th>sepal width (cm)</th>\n",
       "      <th>petal length (cm)</th>\n",
       "      <th>petal width (cm)</th>\n",
       "      <th>class</th>\n",
       "    </tr>\n",
       "  </thead>\n",
       "  <tbody>\n",
       "    <tr>\n",
       "      <th>1</th>\n",
       "      <td>4.9</td>\n",
       "      <td>3.0</td>\n",
       "      <td>1.4</td>\n",
       "      <td>0.2</td>\n",
       "      <td>0</td>\n",
       "    </tr>\n",
       "    <tr>\n",
       "      <th>2</th>\n",
       "      <td>4.7</td>\n",
       "      <td>3.2</td>\n",
       "      <td>1.3</td>\n",
       "      <td>0.2</td>\n",
       "      <td>0</td>\n",
       "    </tr>\n",
       "    <tr>\n",
       "      <th>3</th>\n",
       "      <td>4.6</td>\n",
       "      <td>3.1</td>\n",
       "      <td>1.5</td>\n",
       "      <td>0.2</td>\n",
       "      <td>0</td>\n",
       "    </tr>\n",
       "    <tr>\n",
       "      <th>4</th>\n",
       "      <td>5.0</td>\n",
       "      <td>3.6</td>\n",
       "      <td>1.4</td>\n",
       "      <td>0.2</td>\n",
       "      <td>0</td>\n",
       "    </tr>\n",
       "    <tr>\n",
       "      <th>5</th>\n",
       "      <td>5.4</td>\n",
       "      <td>3.9</td>\n",
       "      <td>1.7</td>\n",
       "      <td>0.4</td>\n",
       "      <td>0</td>\n",
       "    </tr>\n",
       "  </tbody>\n",
       "</table>\n",
       "</div>"
      ],
      "text/plain": [
       "   sepal length (cm)  sepal width (cm)  petal length (cm)  petal width (cm)  \\\n",
       "1                4.9               3.0                1.4               0.2   \n",
       "2                4.7               3.2                1.3               0.2   \n",
       "3                4.6               3.1                1.5               0.2   \n",
       "4                5.0               3.6                1.4               0.2   \n",
       "5                5.4               3.9                1.7               0.4   \n",
       "\n",
       "   class  \n",
       "1      0  \n",
       "2      0  \n",
       "3      0  \n",
       "4      0  \n",
       "5      0  "
      ]
     },
     "execution_count": 118,
     "metadata": {},
     "output_type": "execute_result"
    }
   ],
   "source": [
    "# you can just drop the data point\n",
    "iris_df.dropna(inplace=True)\n",
    "iris_df.head()"
   ]
  },
  {
   "cell_type": "code",
   "execution_count": 120,
   "metadata": {
    "collapsed": false
   },
   "outputs": [],
   "source": [
    "# roll back to initial dataset\n",
    "iris = datasets.load_iris()\n",
    "iris_df = pd.DataFrame(iris.data, columns=iris.feature_names)\n",
    "iris_df['class'] = iris.target\n",
    "iris_df.head()\n",
    "X = iris.data\n",
    "# and response\n",
    "y = iris.target"
   ]
  },
  {
   "cell_type": "markdown",
   "metadata": {},
   "source": [
    "**Test the data**"
   ]
  },
  {
   "cell_type": "markdown",
   "metadata": {},
   "source": [
    "We know, that there are only 3 classes:"
   ]
  },
  {
   "cell_type": "code",
   "execution_count": 123,
   "metadata": {
    "collapsed": false
   },
   "outputs": [],
   "source": [
    "assert len(iris_df['class'].unique()) == 3"
   ]
  },
  {
   "cell_type": "markdown",
   "metadata": {},
   "source": [
    "We also don't want NAN's in the data"
   ]
  },
  {
   "cell_type": "code",
   "execution_count": 124,
   "metadata": {
    "collapsed": false
   },
   "outputs": [],
   "source": [
    "assert iris_df[features].isnull().sum().any() == 0"
   ]
  },
  {
   "cell_type": "markdown",
   "metadata": {},
   "source": [
    "**Explore data distribution:**"
   ]
  },
  {
   "cell_type": "code",
   "execution_count": 125,
   "metadata": {
    "collapsed": false
   },
   "outputs": [
    {
     "data": {
      "text/html": [
       "<div>\n",
       "<table border=\"1\" class=\"dataframe\">\n",
       "  <thead>\n",
       "    <tr style=\"text-align: right;\">\n",
       "      <th></th>\n",
       "      <th>sepal length (cm)</th>\n",
       "      <th>sepal width (cm)</th>\n",
       "      <th>petal length (cm)</th>\n",
       "      <th>petal width (cm)</th>\n",
       "      <th>class</th>\n",
       "    </tr>\n",
       "  </thead>\n",
       "  <tbody>\n",
       "    <tr>\n",
       "      <th>count</th>\n",
       "      <td>150.000000</td>\n",
       "      <td>150.000000</td>\n",
       "      <td>150.000000</td>\n",
       "      <td>150.000000</td>\n",
       "      <td>150.000000</td>\n",
       "    </tr>\n",
       "    <tr>\n",
       "      <th>mean</th>\n",
       "      <td>5.843333</td>\n",
       "      <td>3.054000</td>\n",
       "      <td>3.758667</td>\n",
       "      <td>1.198667</td>\n",
       "      <td>1.000000</td>\n",
       "    </tr>\n",
       "    <tr>\n",
       "      <th>std</th>\n",
       "      <td>0.828066</td>\n",
       "      <td>0.433594</td>\n",
       "      <td>1.764420</td>\n",
       "      <td>0.763161</td>\n",
       "      <td>0.819232</td>\n",
       "    </tr>\n",
       "    <tr>\n",
       "      <th>min</th>\n",
       "      <td>4.300000</td>\n",
       "      <td>2.000000</td>\n",
       "      <td>1.000000</td>\n",
       "      <td>0.100000</td>\n",
       "      <td>0.000000</td>\n",
       "    </tr>\n",
       "    <tr>\n",
       "      <th>25%</th>\n",
       "      <td>5.100000</td>\n",
       "      <td>2.800000</td>\n",
       "      <td>1.600000</td>\n",
       "      <td>0.300000</td>\n",
       "      <td>0.000000</td>\n",
       "    </tr>\n",
       "    <tr>\n",
       "      <th>50%</th>\n",
       "      <td>5.800000</td>\n",
       "      <td>3.000000</td>\n",
       "      <td>4.350000</td>\n",
       "      <td>1.300000</td>\n",
       "      <td>1.000000</td>\n",
       "    </tr>\n",
       "    <tr>\n",
       "      <th>75%</th>\n",
       "      <td>6.400000</td>\n",
       "      <td>3.300000</td>\n",
       "      <td>5.100000</td>\n",
       "      <td>1.800000</td>\n",
       "      <td>2.000000</td>\n",
       "    </tr>\n",
       "    <tr>\n",
       "      <th>max</th>\n",
       "      <td>7.900000</td>\n",
       "      <td>4.400000</td>\n",
       "      <td>6.900000</td>\n",
       "      <td>2.500000</td>\n",
       "      <td>2.000000</td>\n",
       "    </tr>\n",
       "  </tbody>\n",
       "</table>\n",
       "</div>"
      ],
      "text/plain": [
       "       sepal length (cm)  sepal width (cm)  petal length (cm)  \\\n",
       "count         150.000000        150.000000         150.000000   \n",
       "mean            5.843333          3.054000           3.758667   \n",
       "std             0.828066          0.433594           1.764420   \n",
       "min             4.300000          2.000000           1.000000   \n",
       "25%             5.100000          2.800000           1.600000   \n",
       "50%             5.800000          3.000000           4.350000   \n",
       "75%             6.400000          3.300000           5.100000   \n",
       "max             7.900000          4.400000           6.900000   \n",
       "\n",
       "       petal width (cm)       class  \n",
       "count        150.000000  150.000000  \n",
       "mean           1.198667    1.000000  \n",
       "std            0.763161    0.819232  \n",
       "min            0.100000    0.000000  \n",
       "25%            0.300000    0.000000  \n",
       "50%            1.300000    1.000000  \n",
       "75%            1.800000    2.000000  \n",
       "max            2.500000    2.000000  "
      ]
     },
     "execution_count": 125,
     "metadata": {},
     "output_type": "execute_result"
    }
   ],
   "source": [
    "iris_df.describe()"
   ]
  },
  {
   "cell_type": "markdown",
   "metadata": {},
   "source": [
    "**Data vizualization:**"
   ]
  },
  {
   "cell_type": "code",
   "execution_count": 126,
   "metadata": {
    "collapsed": true
   },
   "outputs": [],
   "source": [
    "import seaborn as sb"
   ]
  },
  {
   "cell_type": "code",
   "execution_count": 128,
   "metadata": {
    "collapsed": false
   },
   "outputs": [
    {
     "data": {
      "image/png": "[encoded data removed]",
      "text/plain": [
       "<matplotlib.figure.Figure at 0x117ee8278>"
      ]
     },
     "metadata": {},
     "output_type": "display_data"
    }
   ],
   "source": [
    "# data exploration\n",
    "#warnings.filterwarnings(\"ignore\")\n",
    "with plt.style.context('seaborn-whitegrid'):\n",
    "    plt.figure (figsize = (8, 6))\n",
    "    #plt.suptitle('Iris data: explore input variables', fontsize=15)\n",
    "    for i in range(4):\n",
    "        plt.subplot (2, 2, i + 1)\n",
    "        for label in labels:\n",
    "            plt.hist (X[y == label_dict[label], i], label = label, bins = 10, alpha = 0.5)\n",
    "        plt.xlabel (feature_dict[i])\n",
    "    plt.legend (loc = 'upper right', fancybox = True, fontsize = 8)\n",
    "    plt.tight_layout ()\n",
    "    plt.subplots_adjust (top = 0.85)\n",
    "    plt.show ()"
   ]
  },
  {
   "cell_type": "code",
   "execution_count": 129,
   "metadata": {
    "collapsed": false
   },
   "outputs": [
    {
     "data": {
      "text/html": [
       "<div>\n",
       "<table border=\"1\" class=\"dataframe\">\n",
       "  <thead>\n",
       "    <tr style=\"text-align: right;\">\n",
       "      <th></th>\n",
       "      <th>sepal length (cm)</th>\n",
       "      <th>sepal width (cm)</th>\n",
       "      <th>petal length (cm)</th>\n",
       "      <th>petal width (cm)</th>\n",
       "      <th>class</th>\n",
       "      <th>label</th>\n",
       "    </tr>\n",
       "  </thead>\n",
       "  <tbody>\n",
       "    <tr>\n",
       "      <th>0</th>\n",
       "      <td>5.1</td>\n",
       "      <td>3.5</td>\n",
       "      <td>1.4</td>\n",
       "      <td>0.2</td>\n",
       "      <td>0</td>\n",
       "      <td>setosa</td>\n",
       "    </tr>\n",
       "    <tr>\n",
       "      <th>1</th>\n",
       "      <td>4.9</td>\n",
       "      <td>3.0</td>\n",
       "      <td>1.4</td>\n",
       "      <td>0.2</td>\n",
       "      <td>0</td>\n",
       "      <td>setosa</td>\n",
       "    </tr>\n",
       "    <tr>\n",
       "      <th>2</th>\n",
       "      <td>4.7</td>\n",
       "      <td>3.2</td>\n",
       "      <td>1.3</td>\n",
       "      <td>0.2</td>\n",
       "      <td>0</td>\n",
       "      <td>setosa</td>\n",
       "    </tr>\n",
       "    <tr>\n",
       "      <th>3</th>\n",
       "      <td>4.6</td>\n",
       "      <td>3.1</td>\n",
       "      <td>1.5</td>\n",
       "      <td>0.2</td>\n",
       "      <td>0</td>\n",
       "      <td>setosa</td>\n",
       "    </tr>\n",
       "    <tr>\n",
       "      <th>4</th>\n",
       "      <td>5.0</td>\n",
       "      <td>3.6</td>\n",
       "      <td>1.4</td>\n",
       "      <td>0.2</td>\n",
       "      <td>0</td>\n",
       "      <td>setosa</td>\n",
       "    </tr>\n",
       "  </tbody>\n",
       "</table>\n",
       "</div>"
      ],
      "text/plain": [
       "   sepal length (cm)  sepal width (cm)  petal length (cm)  petal width (cm)  \\\n",
       "0                5.1               3.5                1.4               0.2   \n",
       "1                4.9               3.0                1.4               0.2   \n",
       "2                4.7               3.2                1.3               0.2   \n",
       "3                4.6               3.1                1.5               0.2   \n",
       "4                5.0               3.6                1.4               0.2   \n",
       "\n",
       "   class   label  \n",
       "0      0  setosa  \n",
       "1      0  setosa  \n",
       "2      0  setosa  \n",
       "3      0  setosa  \n",
       "4      0  setosa  "
      ]
     },
     "execution_count": 129,
     "metadata": {},
     "output_type": "execute_result"
    }
   ],
   "source": [
    "class_dict = dict(zip(np.arange(len(labels)), labels))\n",
    "iris_df['label'] = [class_dict[y] for y in iris_df['class'].values]\n",
    "iris_df.head()"
   ]
  },
  {
   "cell_type": "code",
   "execution_count": 27,
   "metadata": {
    "collapsed": false
   },
   "outputs": [
    {
     "data": {
      "image/png": "[encoded data removed]",
      "text/plain": [
       "<matplotlib.figure.Figure at 0x113a25668>"
      ]
     },
     "metadata": {},
     "output_type": "display_data"
    }
   ],
   "source": [
    "sb.pairplot(iris_df, vars=features, hue='label');"
   ]
  },
  {
   "cell_type": "markdown",
   "metadata": {},
   "source": [
    "### State the problem\n",
    "\n",
    "**What kind of data you have?**\n",
    "\n",
    "*supervized learning*\n",
    "\n",
    "* labeled input data: consider a classification task - having labeled input data predict labels for the new unlabeled points;\n",
    "* response (discrete or continuous) varies according to input data: consider regression task - make a model, predicting new response points from past ones.\n",
    "\n",
    "*unsupervized learning*\n",
    "* unlabeled data: consider a clusterization task - group input data pints into clusters;\n",
    "\n",
    "**What is the metric of accuracy for your problem?**\n",
    "\n",
    "* accuracy for a classification task might be: $\\displaystyle{\\frac{1}{n}\\sum_{i=1}^n\\I_{\\{y_i^{test} = y_i^{pred}\\}}}$;\n",
    "* accuracy for a regression task might be: $\\displaystyle{\\mathrm{R}^2=1-\\frac{\\sum_i(y_i-\\hat{y}_i)^2}{(y_i-\\bar{y})^2}}$, where $\\displaystyle{\\bar{y}=\\frac{1}{n}\\sum_iy_i}$;\n",
    "* accuracy for a clusterization task might be: $\\displaystyle{\\frac{\\min_{i,j}d(i,j)}{\\max_kd^*(k)}}$ - ratio between minimal inter-cluster distance to maximal intra-cluster distance. "
   ]
  },
  {
   "cell_type": "markdown",
   "metadata": {},
   "source": [
    "### Loss function\n",
    "\n",
    "Loss function defines the price of inaccurate solution of the problem.\n",
    "\n",
    "**Loss function in classification task: **\n",
    "Let $\\X$ be input data points and $y=\\{-1,1\\}$ be a set of labels for classification problem.\n",
    "Task is to find function $f:\\X\\rightarrow \\R$, which maps input points to labels.\n",
    "* Hinge loss: $\\displaystyle{V(f(x), y)=\\max(0, 1-y\\cdot f(x))}$\n",
    "* Square loss: $\\displaystyle{V(f(x), y)=(1-y\\cdot f(x))^2}$\n",
    "\n",
    "**Loss function in regression task:**\n",
    "Let $\\X$ be input points and $y$ - response variable. We are interested in function $y=f(x)$ for $x\\in\\X$\n",
    "* Square loss: $V(f(x), y)=(y-f(x))^2$"
   ]
  },
  {
   "cell_type": "markdown",
   "metadata": {},
   "source": [
    "### Penalty function\n",
    "\n",
    "Consider a general definition of loss function: $\\displaystyle{\\min_f\\sum_{i}V(f(x_i),y_i)+\\alpha R(f)}$\n",
    "\n",
    "**$L_1$ and $L_2$ regularization for linear regression model**\n",
    "Consider a linear regression of the form $y=w\\X$\n",
    "* $L_2$ regularization $\\displaystyle{min_w\\sum_iV(x_i\\cdot w, y_i)+\\alpha\\|w\\|^2}$\n",
    "* $L_1$ regularization $\\displaystyle{min_w\\sum_iV(x_i\\cdot w, y_i)+\\alpha|w|}$"
   ]
  },
  {
   "cell_type": "markdown",
   "metadata": {
    "collapsed": true
   },
   "source": [
    "### Learning tasks\n",
    "* **Supervised learning:** set of data points $x$ is mapped to a set of labels $y$, dataset can be represented\n",
    "as a collection of pairs $(x,y)$. The task is: having labeled examples predict class labels for new input data points.\n",
    "* **Unsupervised learning:** there are no labels in this case, the task is to discover inner structure of input data.\n",
    "#### Example: Iris dataset supervised learning task - Classification\n",
    "Iris dataset features $X$ and class labels $y$ form pairs for **classification** task: having labeled examples, predict\n",
    "class label for the new data points.\n",
    "#### Example: Iris dataset unsupervised learning task - Clusterisation\n",
    "Dropping class label information lead us to a **clusterisation** task: split input data into homogenious groups\n",
    "according to their feature values. From petal length and petal width histograms one can suppose existance of \n",
    "at least two distinct groups, which can be separated from each other."
   ]
  },
  {
   "cell_type": "markdown",
   "metadata": {},
   "source": [
    "### Iris dataset classification task\n",
    "Let's take 2-dimensional data points from input data space for graphical illustration purpose.\n",
    "1. Split data into **train** and **test** subsets in order to access the accuracy of classification. \n",
    "Stay 30% of points for testing purpose.\n",
    "2. Scale data: $\\displaystyle{\\frac{x-\\mathbb{E}x}{\\sqrt{\\mathbb{D}x}}}$ - this is especially usefull if different features \n",
    "are measured in totally distinct scales.\n",
    "3. Train classifier on the train data.\n",
    "4. Access classification accuracy using test data. "
   ]
  },
  {
   "cell_type": "code",
   "execution_count": 131,
   "metadata": {
    "collapsed": true
   },
   "outputs": [],
   "source": [
    "X = iris.data\n",
    "# and response\n",
    "y = iris.target\n",
    "# consider features: petal length and petal width\n",
    "X = X[:, 2:]\n",
    "# (1) Split data into train and test subsets\n",
    "X_train, X_test, y_train, y_test = train_test_split (X, y, test_size = 0.3)"
   ]
  },
  {
   "cell_type": "code",
   "execution_count": 132,
   "metadata": {
    "collapsed": false
   },
   "outputs": [],
   "source": [
    "# (2) Scale data (scale test data using the same average and standard deviation, which were calculated from train subset)\n",
    "sc = StandardScaler()\n",
    "sc.fit (X_train)\n",
    "X_train = sc.transform(X_train)\n",
    "X_test = sc.transform(X_test)"
   ]
  },
  {
   "cell_type": "code",
   "execution_count": 133,
   "metadata": {
    "collapsed": false
   },
   "outputs": [
    {
     "name": "stdout",
     "output_type": "stream",
     "text": [
      "Classification accuracy: 0.978\n"
     ]
    }
   ],
   "source": [
    "# classify with Support Vector Classifier\n",
    "clf = SVC (C = 1.0, kernel = 'rbf', gamma = 0.5)\n",
    "# (3) Train classifier\n",
    "clf.fit (X_train, y_train)\n",
    "# (4) Access accuracy\n",
    "print ('Classification accuracy: %.3f' % clf.score (X_test, y_test))"
   ]
  },
  {
   "cell_type": "code",
   "execution_count": 134,
   "metadata": {
    "collapsed": true
   },
   "outputs": [],
   "source": [
    "def plot_decision_regions(X, y, classifier, test_idx=None, resolution=0.02):\n",
    "    markers = ('s', 'x', 'o', '^', 'v')\n",
    "    colors = ('red', 'blue', 'lightgreen', 'gray', 'cyan')\n",
    "    cmap = ListedColormap(colors[:len(np.unique(y))])\n",
    "    # decision surface\n",
    "    x1_min, x1_max = X[:, 0].min() - 1, X[:, 0].max() + 1\n",
    "    x2_min, x2_max = X[:, 1].min() - 1, X[:, 1].max() + 1\n",
    "    xx1, xx2 = np.meshgrid(np.arange(x1_min, x1_max, resolution), np.arange(x2_min, x2_max, resolution))\n",
    "    Z = classifier.predict(np.array([xx1.ravel(), xx2.ravel()]).T)\n",
    "    Z = Z.reshape(xx1.shape)\n",
    "    plt.contourf(xx1, xx2, Z, alpha=0.4, cmap=cmap)\n",
    "    plt.xlim(xx1.min(), xx1.max())\n",
    "    plt.xlim(xx2.min(), xx2.max())\n",
    "    # plot samples\n",
    "    X_test, y_test = X[test_idx,:], y[test_idx]\n",
    "    for idx, cl in enumerate(np.unique(y)):\n",
    "        plt.scatter(x=X[y == cl, 0], y=X[y == cl, 1], alpha=0.8, c=cmap(idx), marker=markers[idx], label=cl)\n",
    "    # test samples highlight\n",
    "    if test_idx:\n",
    "        X_test, y_test = X[test_idx,:], y[test_idx]\n",
    "        plt.scatter(X_test[:, 0], X_test[:, 1], c='', alpha=1.0, linewidth=1, marker='o', s=55, label='test set')"
   ]
  },
  {
   "cell_type": "code",
   "execution_count": 32,
   "metadata": {
    "collapsed": false
   },
   "outputs": [
    {
     "data": {
      "image/png": "[encoded data removed]",
      "text/plain": [
       "<matplotlib.figure.Figure at 0x118328860>"
      ]
     },
     "metadata": {},
     "output_type": "display_data"
    }
   ],
   "source": [
    "plot_decision_regions(X_train, y_train, clf)"
   ]
  },
  {
   "cell_type": "code",
   "execution_count": 135,
   "metadata": {
    "collapsed": true
   },
   "outputs": [],
   "source": [
    "def bootstrap(X, y, scaler, classifier, test_size=0.25, n=100):\n",
    "    scores = np.zeros(n)\n",
    "    for i in range(n):\n",
    "        X_train, X_test, y_train, y_test = train_test_split (X, y, test_size=test_size)\n",
    "        scaler.fit (X_train)\n",
    "        X_train = scaler.transform(X_train)\n",
    "        X_test = scaler.transform(X_test)\n",
    "        classifier.fit(X_train, y_train)\n",
    "        scores[i] = classifier.score(X_test, y_test)\n",
    "    return scores"
   ]
  },
  {
   "cell_type": "code",
   "execution_count": 143,
   "metadata": {
    "collapsed": true
   },
   "outputs": [],
   "source": [
    "scores = bootstrap(X, y, sc, clf, n=1000)"
   ]
  },
  {
   "cell_type": "code",
   "execution_count": 144,
   "metadata": {
    "collapsed": false
   },
   "outputs": [
    {
     "data": {
      "image/png": "[encoded data removed]",
      "text/plain": [
       "<matplotlib.figure.Figure at 0x118b23e80>"
      ]
     },
     "metadata": {},
     "output_type": "display_data"
    }
   ],
   "source": [
    "plt.hist(scores, bins=15);"
   ]
  },
  {
   "cell_type": "markdown",
   "metadata": {},
   "source": [
    "### Iris dataset regression task\n",
    "\n",
    "Consider a toy example of fiting linear regression: $\\displaystyle{y=ax+b+\\varepsilon}$, where $\\displaystyle{\\varepsilon\\sim N(0,\\sigma^2)}$"
   ]
  },
  {
   "cell_type": "code",
   "execution_count": 145,
   "metadata": {
    "collapsed": true
   },
   "outputs": [],
   "source": [
    "X = iris.data\n",
    "# consider features: petal length and petal width\n",
    "# take petal width as a response\n",
    "y = X[:, -1]\n",
    "# cconsider petal length as input\n",
    "X = X[:, 2:-1]\n",
    "# (1) Split data into train and test subsets\n",
    "X_train, X_test, y_train, y_test = train_test_split (X, y, test_size = 0.3)"
   ]
  },
  {
   "cell_type": "code",
   "execution_count": 146,
   "metadata": {
    "collapsed": false
   },
   "outputs": [],
   "source": [
    "# (2) Scale data (scale test data using the same average and standard deviation, which were calculated from train subset)\n",
    "sc = StandardScaler()\n",
    "sc.fit (X_train)\n",
    "X_train = sc.transform(X_train)\n",
    "X_test = sc.transform(X_test)"
   ]
  },
  {
   "cell_type": "code",
   "execution_count": 147,
   "metadata": {
    "collapsed": false
   },
   "outputs": [
    {
     "name": "stdout",
     "output_type": "stream",
     "text": [
      "Regression R^2: 0.916\n"
     ]
    }
   ],
   "source": [
    "# classify with Support Vector Classifier\n",
    "lr = LinearRegression()\n",
    "# (3) Train classifier\n",
    "lr.fit (X_train, y_train)\n",
    "# (4) Access accuracy\n",
    "print('Regression R^2: %.3f' % lr.score (X_test, y_test))"
   ]
  },
  {
   "cell_type": "code",
   "execution_count": 148,
   "metadata": {
    "collapsed": false
   },
   "outputs": [
    {
     "name": "stdout",
     "output_type": "stream",
     "text": [
      "Regression parameters: coefficients 0.723, intercept: 1.169\n"
     ]
    }
   ],
   "source": [
    "print('Regression parameters: coefficients %.3f, intercept: %.3f' % (lr.coef_ , lr.intercept_))"
   ]
  },
  {
   "cell_type": "markdown",
   "metadata": {},
   "source": [
    "Obtain regression parameters and construct fitted line:"
   ]
  },
  {
   "cell_type": "code",
   "execution_count": 149,
   "metadata": {
    "collapsed": false
   },
   "outputs": [],
   "source": [
    "b = lr.intercept_\n",
    "a = lr.coef_\n",
    "x = np.linspace(min(X_train),max(X_train),100)\n",
    "f = a*x + b"
   ]
  },
  {
   "cell_type": "code",
   "execution_count": 150,
   "metadata": {
    "collapsed": false
   },
   "outputs": [
    {
     "data": {
      "image/png": "[encoded data removed]",
      "text/plain": [
       "<matplotlib.figure.Figure at 0x114144358>"
      ]
     },
     "metadata": {},
     "output_type": "display_data"
    }
   ],
   "source": [
    "plt.scatter(X_train, y_train)\n",
    "plt.plot(x, f, color='red');"
   ]
  },
  {
   "cell_type": "markdown",
   "metadata": {},
   "source": [
    "### Iris dataset clusterization task\n",
    "In this case we are not going to use (actually we'll not be able to obtain) label data vector $y$.\n",
    "Looking at input data $X$ we should understand, is there any *hidden variable*, describing data points class membership."
   ]
  },
  {
   "cell_type": "code",
   "execution_count": 151,
   "metadata": {
    "collapsed": true
   },
   "outputs": [],
   "source": [
    "X = iris.data\n",
    "# and response\n",
    "y = iris.target\n",
    "# consider features: petal length and petal width\n",
    "X = X[:, 2:]\n",
    "# (1) Split data into train and test subsets\n",
    "X_train, X_test, y_train, y_test = train_test_split (X, y, test_size = 0.3)"
   ]
  },
  {
   "cell_type": "code",
   "execution_count": 152,
   "metadata": {
    "collapsed": true
   },
   "outputs": [],
   "source": [
    "# (2) Scale data (scale test data using the same average and standard deviation, which were calculated from train subset)\n",
    "sc = StandardScaler()\n",
    "sc.fit (X_train)\n",
    "X_train = sc.transform(X_train)\n",
    "X_test = sc.transform(X_test)"
   ]
  },
  {
   "cell_type": "code",
   "execution_count": 153,
   "metadata": {
    "collapsed": false
   },
   "outputs": [
    {
     "name": "stdout",
     "output_type": "stream",
     "text": [
      "Clusterization accuracy: 0.956\n"
     ]
    }
   ],
   "source": [
    "# Set number of clusters to known number of classes\n",
    "n_clusters = 3\n",
    "kmeans = KMeans (n_clusters = n_clusters)\n",
    "kmeans.fit (X_train)\n",
    "centers = kmeans.cluster_centers_\n",
    "# correct accuracy calculation: clusterization method doesn't know about class labels, so we have to align y_test and y_pred\n",
    "y_pred = kmeans.predict (X_test)\n",
    "items = np.arange (n_clusters)\n",
    "accuracy = 0\n",
    "for p in permutations (items):\n",
    "    predY = np.asarray (np.choose (y_pred, np.asarray (p)))\n",
    "    accuracy = np.max ((accuracy, accuracy_score (y_test, predY)))\n",
    "\n",
    "print ('Clusterization accuracy: %.3f' % accuracy)"
   ]
  },
  {
   "cell_type": "code",
   "execution_count": 154,
   "metadata": {
    "collapsed": false
   },
   "outputs": [
    {
     "data": {
      "text/plain": [
       "<matplotlib.collections.PathCollection at 0x117a66780>"
      ]
     },
     "execution_count": 154,
     "metadata": {},
     "output_type": "execute_result"
    },
    {
     "data": {
      "image/png": "[encoded data removed]",
      "text/plain": [
       "<matplotlib.figure.Figure at 0x117a66978>"
      ]
     },
     "metadata": {},
     "output_type": "display_data"
    }
   ],
   "source": [
    "plot_decision_regions (X_train, y_train, kmeans)\n",
    "plt.scatter(kmeans.cluster_centers_.T[0],kmeans.cluster_centers_.T[1],color='black')"
   ]
  },
  {
   "cell_type": "markdown",
   "metadata": {},
   "source": [
    "### Feature selection\n",
    "We had selected **features** (*petal length* and *petal width*) in the above code by hand, but what if $d$ is enormous?\n",
    "Let's perform feature selection step, automating the process:\n",
    "* Take initial data $X$ and $y$;\n",
    "* Split data into train and test subsets;\n",
    "* Scale the data;\n",
    "* Fit the classifier;\n",
    "* Perform model selection;\n",
    "* Print selected features."
   ]
  },
  {
   "cell_type": "code",
   "execution_count": 155,
   "metadata": {
    "collapsed": true
   },
   "outputs": [],
   "source": [
    "# fix random seed - to reproduce output\n",
    "np.random.seed (123)"
   ]
  },
  {
   "cell_type": "code",
   "execution_count": 156,
   "metadata": {
    "collapsed": true
   },
   "outputs": [],
   "source": [
    "# (1) Take initial data\n",
    "X, y = iris.data, iris.target"
   ]
  },
  {
   "cell_type": "code",
   "execution_count": 157,
   "metadata": {
    "collapsed": true
   },
   "outputs": [],
   "source": [
    "# (2) Split data into train and test subsets\n",
    "X_train, X_test, y_train, y_test = train_test_split (X, y, test_size = 0.3)"
   ]
  },
  {
   "cell_type": "code",
   "execution_count": 158,
   "metadata": {
    "collapsed": true
   },
   "outputs": [],
   "source": [
    "# (3) Scale data\n",
    "sc.fit (X_train)\n",
    "X_train = sc.transform (X_train)\n",
    "X_test = sc.transform (X_test)"
   ]
  },
  {
   "cell_type": "code",
   "execution_count": 159,
   "metadata": {
    "collapsed": false
   },
   "outputs": [
    {
     "name": "stdout",
     "output_type": "stream",
     "text": [
      "Selected features:\n",
      "petal length (cm)\n",
      "petal width (cm)\n"
     ]
    }
   ],
   "source": [
    "# (3) Train classifier\n",
    "clf = LinearSVC(C = 0.01, penalty = 'l1', dual = False).fit (X_train, y_train)\n",
    "# (4) Perform model selection\n",
    "model = SelectFromModel(clf, prefit = True)\n",
    "X_sel = model.transform(X_train)\n",
    "# Print selected features\n",
    "print ('Selected features:')\n",
    "selected = model.get_support ()\n",
    "for i in np.arange (4):\n",
    "    if selected[i]:\n",
    "        print (features[i])"
   ]
  },
  {
   "cell_type": "code",
   "execution_count": 160,
   "metadata": {
    "collapsed": false
   },
   "outputs": [],
   "source": [
    "n_feat = len (features)\n",
    "alphas = np.linspace (0.01, 0.1, 100)\n",
    "w = np.zeros ((n_feat, alphas.shape[0]))\n",
    "i = 0\n",
    "for alpha in alphas:\n",
    "    clf = LinearSVC (C = alpha, penalty = 'l1', dual = False).fit (X_train, y_train)\n",
    "    w[:, i] = np.linalg.norm (clf.coef_, axis = 0)\n",
    "    i += 1"
   ]
  },
  {
   "cell_type": "code",
   "execution_count": 165,
   "metadata": {
    "collapsed": true
   },
   "outputs": [],
   "source": [
    "df = pd.DataFrame (w.T)\n",
    "df.columns = features\n",
    "df['alpha'] = alphas\n",
    "df = pd.melt (df, id_vars =['alpha'])"
   ]
  },
  {
   "cell_type": "code",
   "execution_count": 167,
   "metadata": {
    "collapsed": false
   },
   "outputs": [
    {
     "data": {
      "image/png": "[encoded data removed]",
      "text/plain": [
       "<matplotlib.figure.Figure at 0x117a949b0>"
      ]
     },
     "metadata": {},
     "output_type": "display_data"
    },
    {
     "data": {
      "text/plain": [
       "<ggplot: (293246205)>"
      ]
     },
     "execution_count": 167,
     "metadata": {},
     "output_type": "execute_result"
    }
   ],
   "source": [
    "ggplot(aes (x='alpha', y='value', color = 'variable'), data=df) + geom_line()+scale_color_brewer (type = 'div')"
   ]
  },
  {
   "cell_type": "markdown",
   "metadata": {},
   "source": [
    "These are exactly those features, we'd selected before."
   ]
  },
  {
   "cell_type": "markdown",
   "metadata": {},
   "source": [
    "### Data scaling\n",
    "What if we'll omit **scaling** step in the previous feature selection procedure"
   ]
  },
  {
   "cell_type": "code",
   "execution_count": 168,
   "metadata": {
    "collapsed": true
   },
   "outputs": [],
   "source": [
    "# fix random seed - to reproduce output\n",
    "np.random.seed (123)"
   ]
  },
  {
   "cell_type": "code",
   "execution_count": 169,
   "metadata": {
    "collapsed": true
   },
   "outputs": [],
   "source": [
    "# (1) Take initial data\n",
    "X, y = iris.data, iris.target"
   ]
  },
  {
   "cell_type": "code",
   "execution_count": 170,
   "metadata": {
    "collapsed": true
   },
   "outputs": [],
   "source": [
    "# (2) Split data into train and test subsets\n",
    "X_train, X_test, y_train, y_test = train_test_split (X, y, test_size = 0.3)"
   ]
  },
  {
   "cell_type": "code",
   "execution_count": 171,
   "metadata": {
    "collapsed": true
   },
   "outputs": [],
   "source": [
    "# (3) Scale data (Omit this step)\n",
    "#sc.fit(X_train)\n",
    "#X_train = sc.transform(X_train)\n",
    "#X_test = sc.transform(X_test)"
   ]
  },
  {
   "cell_type": "code",
   "execution_count": 172,
   "metadata": {
    "collapsed": true
   },
   "outputs": [],
   "source": [
    "# (4) Train classifier\n",
    "clf = LinearSVC (C = 0.01, penalty = 'l1', dual = False).fit (X_train, y_train)"
   ]
  },
  {
   "cell_type": "code",
   "execution_count": 173,
   "metadata": {
    "collapsed": false
   },
   "outputs": [
    {
     "name": "stdout",
     "output_type": "stream",
     "text": [
      "Selected features:\n",
      "sepal length (cm)\n",
      "sepal width (cm)\n",
      "petal length (cm)\n"
     ]
    }
   ],
   "source": [
    "# (5) Perform model selection\n",
    "model = SelectFromModel (clf, prefit = True)\n",
    "X_sel = model.transform (X_train)\n",
    "# Print selected features\n",
    "print ('Selected features:')\n",
    "selected = model.get_support ()\n",
    "for i in np.arange (4):\n",
    "    if selected[i]:\n",
    "        print (features[i])"
   ]
  },
  {
   "cell_type": "code",
   "execution_count": 174,
   "metadata": {
    "collapsed": true
   },
   "outputs": [],
   "source": [
    "n_feat = len (features)\n",
    "alphas = np.linspace (0.01, 0.1, 100)\n",
    "w = np.zeros ((n_feat, alphas.shape[0]))\n",
    "i = 0\n",
    "for alpha in alphas:\n",
    "    clf = LinearSVC (C = alpha, penalty = 'l1', dual = False).fit (X_train, y_train)\n",
    "    w[:, i] = np.linalg.norm (clf.coef_, axis = 0)\n",
    "    i += 1"
   ]
  },
  {
   "cell_type": "code",
   "execution_count": 175,
   "metadata": {
    "collapsed": true
   },
   "outputs": [],
   "source": [
    "df = pd.DataFrame (w.T)\n",
    "df.columns = features\n",
    "df['alpha'] = alphas\n",
    "df = pd.melt (df, id_vars =['alpha'])"
   ]
  },
  {
   "cell_type": "code",
   "execution_count": 176,
   "metadata": {
    "collapsed": false
   },
   "outputs": [
    {
     "data": {
      "image/png": "[encoded data removed]",
      "text/plain": [
       "<matplotlib.figure.Figure at 0x117a94860>"
      ]
     },
     "metadata": {},
     "output_type": "display_data"
    },
    {
     "data": {
      "text/plain": [
       "<ggplot: (-9223372036560949388)>"
      ]
     },
     "execution_count": 176,
     "metadata": {},
     "output_type": "execute_result"
    }
   ],
   "source": [
    "ggplot (aes (x='alpha', y='value', color = 'variable'), data=df) + geom_line()+scale_color_brewer (type = 'div')"
   ]
  },
  {
   "cell_type": "markdown",
   "metadata": {},
   "source": [
    "We got different subset of features just because of greater variability of *unscaled* sepal length and width!"
   ]
  },
  {
   "cell_type": "markdown",
   "metadata": {},
   "source": [
    "### Regularization\n",
    "While performing feature selection, we used $L_1$ penalty in linear SVC, what will happen, if we'll take $L_2$ penalty?"
   ]
  },
  {
   "cell_type": "code",
   "execution_count": 63,
   "metadata": {
    "collapsed": true
   },
   "outputs": [],
   "source": [
    "# fix random seed - to reproduce output\n",
    "np.random.seed (123)"
   ]
  },
  {
   "cell_type": "code",
   "execution_count": 64,
   "metadata": {
    "collapsed": true
   },
   "outputs": [],
   "source": [
    "# (1) Take initial data\n",
    "X, y = iris.data, iris.target"
   ]
  },
  {
   "cell_type": "code",
   "execution_count": 65,
   "metadata": {
    "collapsed": true
   },
   "outputs": [],
   "source": [
    "# (2) Split data into train and test subsets\n",
    "X_train, X_test, y_train, y_test = train_test_split (X, y, test_size = 0.3)"
   ]
  },
  {
   "cell_type": "code",
   "execution_count": 66,
   "metadata": {
    "collapsed": true
   },
   "outputs": [],
   "source": [
    "# (3) Scale data\n",
    "sc.fit (X_train)\n",
    "X_train = sc.transform (X_train)\n",
    "X_test = sc.transform (X_test)"
   ]
  },
  {
   "cell_type": "code",
   "execution_count": 67,
   "metadata": {
    "collapsed": true
   },
   "outputs": [],
   "source": [
    "# (4) Train classifier\n",
    "clf = LinearSVC (C = 0.01, penalty = 'l2', dual = False).fit (X_train, y_train)"
   ]
  },
  {
   "cell_type": "code",
   "execution_count": 68,
   "metadata": {
    "collapsed": false
   },
   "outputs": [
    {
     "name": "stdout",
     "output_type": "stream",
     "text": [
      "Selected features:\n",
      "sepal width (cm)\n",
      "petal length (cm)\n",
      "petal width (cm)\n"
     ]
    }
   ],
   "source": [
    "# (5) Perform model selection\n",
    "from sklearn.feature_selection import SelectFromModel\n",
    "model = SelectFromModel (clf, prefit = True)\n",
    "X_sel = model.transform (X_train)\n",
    "# Print selected features\n",
    "print ('Selected features:')\n",
    "selected = model.get_support ()\n",
    "for i in np.arange (4):\n",
    "    if selected[i]:\n",
    "        print (features[i])"
   ]
  },
  {
   "cell_type": "code",
   "execution_count": 69,
   "metadata": {
    "collapsed": true
   },
   "outputs": [],
   "source": [
    "n_feat = len (features)\n",
    "alphas = np.linspace (0.01, 0.1, 100)\n",
    "w = np.zeros ((n_feat, alphas.shape[0]))\n",
    "i = 0\n",
    "for alpha in alphas:\n",
    "    clf = LinearSVC (C = alpha, penalty = 'l2', dual = False).fit (X_train, y_train)\n",
    "    w[:, i] = np.linalg.norm (clf.coef_, axis = 0)\n",
    "    i += 1\n",
    "df = pd.DataFrame (w.T)\n",
    "df.columns = features\n",
    "df['alpha'] = alphas\n",
    "df = pd.melt (df, id_vars =['alpha'])"
   ]
  },
  {
   "cell_type": "code",
   "execution_count": 70,
   "metadata": {
    "collapsed": false
   },
   "outputs": [
    {
     "data": {
      "image/png": "[encoded data removed]",
      "text/plain": [
       "<matplotlib.figure.Figure at 0x118099b70>"
      ]
     },
     "metadata": {},
     "output_type": "display_data"
    },
    {
     "data": {
      "text/plain": [
       "<ggplot: (293640554)>"
      ]
     },
     "execution_count": 70,
     "metadata": {},
     "output_type": "execute_result"
    }
   ],
   "source": [
    "ggplot (aes (x='alpha', y='value', color = 'variable'), data=df) + geom_line()+scale_color_brewer (type = 'div')"
   ]
  },
  {
   "cell_type": "markdown",
   "metadata": {},
   "source": [
    "We see, that $L_1$ led us to less number of features (more sparse space)."
   ]
  },
  {
   "cell_type": "markdown",
   "metadata": {},
   "source": [
    "### Overfitting\n",
    "To illustrate the notion of **overfitting** let's take small train set and obtain classification accuracy close to 1 \n",
    "(on the train examples). Taking huge *gamma* in Support Vector Classifier with *rbf* kernel will ensure proclaimed goal, \n",
    "but what will happen with test examples classification accuracy? Decision regions are plotted tightly around train examples \n",
    "and new (test) point tend to fall outside - this decreases accuracy for test points. We'd **overfitted** our classifier \n",
    "on train examples."
   ]
  },
  {
   "cell_type": "code",
   "execution_count": 71,
   "metadata": {
    "collapsed": true
   },
   "outputs": [],
   "source": [
    "np.random.seed (123)\n",
    "# consider features: petal length and petal width\n",
    "X = X[:, 2:]\n",
    "X_train, X_test, y_train, y_test = train_test_split (X, y, test_size = 0.7)"
   ]
  },
  {
   "cell_type": "markdown",
   "metadata": {},
   "source": [
    "Scale data (scale test data using the same average and standard deviation, which were calculated from train subset)"
   ]
  },
  {
   "cell_type": "code",
   "execution_count": 72,
   "metadata": {
    "collapsed": true
   },
   "outputs": [],
   "source": [
    "# (2) Scale data (scale test data using the same average and standard deviation, \n",
    "# which were calculated from train subset)\n",
    "sc.fit (X_train)\n",
    "X_train = sc.transform (X_train)\n",
    "X_test = sc.transform (X_test)\n",
    "# classify with Support Vector Classifier\n",
    "clf = SVC (C = 1.0, kernel = 'rbf', gamma = 100.0)"
   ]
  },
  {
   "cell_type": "code",
   "execution_count": 73,
   "metadata": {
    "collapsed": false
   },
   "outputs": [
    {
     "data": {
      "text/plain": [
       "SVC(C=1.0, cache_size=200, class_weight=None, coef0=0.0,\n",
       "  decision_function_shape=None, degree=3, gamma=100.0, kernel='rbf',\n",
       "  max_iter=-1, probability=False, random_state=None, shrinking=True,\n",
       "  tol=0.001, verbose=False)"
      ]
     },
     "execution_count": 73,
     "metadata": {},
     "output_type": "execute_result"
    }
   ],
   "source": [
    "# (3) Train classifier\n",
    "clf.fit (X_train, y_train)"
   ]
  },
  {
   "cell_type": "code",
   "execution_count": 74,
   "metadata": {
    "collapsed": false
   },
   "outputs": [
    {
     "name": "stdout",
     "output_type": "stream",
     "text": [
      "Classification accuracy (test): 0.790\n",
      "Classification accuracy (train): 1.000\n"
     ]
    },
    {
     "data": {
      "image/png": "[encoded data removed]",
      "text/plain": [
       "<matplotlib.figure.Figure at 0x1183ed390>"
      ]
     },
     "metadata": {},
     "output_type": "display_data"
    }
   ],
   "source": [
    "# (4) Access accuracy\n",
    "print ('Classification accuracy (test): %.3f' % clf.score (X_test, y_test))\n",
    "print ('Classification accuracy (train): %.3f' % clf.score (X_train, y_train))\n",
    "plot_decision_regions (X_train, y_train, clf)"
   ]
  },
  {
   "cell_type": "markdown",
   "metadata": {},
   "source": [
    "### Learning curve (bias-variance trade-off)"
   ]
  },
  {
   "cell_type": "code",
   "execution_count": 75,
   "metadata": {
    "collapsed": true
   },
   "outputs": [],
   "source": [
    "# take some classifier to analyse\n",
    "clf = SVC(C = 1.0, kernel = 'rbf', gamma = 10.)"
   ]
  },
  {
   "cell_type": "code",
   "execution_count": 76,
   "metadata": {
    "collapsed": true
   },
   "outputs": [],
   "source": [
    "# shuffle indices\n",
    "indices = np.arange(y.shape[0])\n",
    "np.random.shuffle(indices)"
   ]
  },
  {
   "cell_type": "code",
   "execution_count": 77,
   "metadata": {
    "collapsed": true
   },
   "outputs": [],
   "source": [
    "# define shuffled samples\n",
    "Xs, ys = X[indices], y[indices]"
   ]
  },
  {
   "cell_type": "code",
   "execution_count": 78,
   "metadata": {
    "collapsed": true
   },
   "outputs": [],
   "source": [
    "# perform cross-validation for defined train sizes\n",
    "train_sizes, train_scores, test_scores = learning_curve(clf, Xs, ys, cv=10, n_jobs=1, \n",
    "                                                        train_sizes=np.linspace(0.1, 1.0, 10), verbose=0)"
   ]
  },
  {
   "cell_type": "code",
   "execution_count": 79,
   "metadata": {
    "collapsed": true
   },
   "outputs": [],
   "source": [
    "# calculate means and std's\n",
    "train_scores_mean = np.mean (train_scores, axis = 1)\n",
    "train_scores_std = np.std (train_scores, axis = 1)\n",
    "test_scores_mean = np.mean (test_scores, axis = 1)\n",
    "test_scores_std = np.std (test_scores, axis = 1)"
   ]
  },
  {
   "cell_type": "code",
   "execution_count": 80,
   "metadata": {
    "collapsed": false
   },
   "outputs": [
    {
     "data": {
      "image/png": "[encoded data removed]",
      "text/plain": [
       "<matplotlib.figure.Figure at 0x11807e7b8>"
      ]
     },
     "metadata": {},
     "output_type": "display_data"
    }
   ],
   "source": [
    "plt.fill_between(train_sizes, \n",
    "                 train_scores_mean - train_scores_std, \n",
    "                 train_scores_mean + train_scores_std, \n",
    "                 alpha = 0.5, color = 'blue')\n",
    "plt.fill_between(train_sizes, \n",
    "                 test_scores_mean - test_scores_std, \n",
    "                 test_scores_mean + test_scores_std, \n",
    "                 alpha = 0.5, color = 'red')\n",
    "plt.plot(train_sizes, train_scores_mean, color = 'blue', label='Training accuracy')\n",
    "plt.plot(train_sizes, test_scores_mean, color = 'red', label='Test accuracy')\n",
    "plt.title('Learning curve')\n",
    "plt.xlabel(\"Number of training samples\")\n",
    "plt.ylabel('Accuracy')\n",
    "plt.legend(loc='lower right')\n",
    "plt.ylim(0.8,1.0)\n",
    "plt.show()"
   ]
  },
  {
   "cell_type": "markdown",
   "metadata": {},
   "source": [
    "### Validation curve (overfitting diagnosing tool)\n",
    "Recently we observed *overfitting* problem, but how to access, what is the right range for the model's parameters \n",
    "to prevent overfitting? **Validation curve** is the handy tool to visualize the problem: it shows train and test \n",
    "scores depending on parameters values. We can observe, what was mentioned before: the bigger *gamma*s produce \n",
    "overfitted models in our case."
   ]
  },
  {
   "cell_type": "code",
   "execution_count": 81,
   "metadata": {
    "collapsed": true
   },
   "outputs": [],
   "source": [
    "# take some classifier to analyse\n",
    "clf = SVC(C = 1.0, kernel = 'rbf', gamma = 10.0)"
   ]
  },
  {
   "cell_type": "code",
   "execution_count": 82,
   "metadata": {
    "collapsed": true
   },
   "outputs": [],
   "source": [
    "# shuffle indices\n",
    "indices = np.arange(y.shape[0])\n",
    "np.random.shuffle(indices)"
   ]
  },
  {
   "cell_type": "code",
   "execution_count": 83,
   "metadata": {
    "collapsed": true
   },
   "outputs": [],
   "source": [
    "# define shuffled samples\n",
    "Xs, ys = X[indices], y[indices]"
   ]
  },
  {
   "cell_type": "code",
   "execution_count": 84,
   "metadata": {
    "collapsed": true
   },
   "outputs": [],
   "source": [
    "# define parameter range for gamma parameter of rbf kernel\n",
    "param_range = np.linspace(.01, 1000, 100)"
   ]
  },
  {
   "cell_type": "code",
   "execution_count": 85,
   "metadata": {
    "collapsed": true
   },
   "outputs": [],
   "source": [
    "# perform cross-validation for different values of parameter gamma\n",
    "train_scores, test_scores = validation_curve(clf, Xs, ys, \"gamma\", \n",
    "                                             param_range, cv=10, scoring='accuracy', n_jobs=1)"
   ]
  },
  {
   "cell_type": "code",
   "execution_count": 86,
   "metadata": {
    "collapsed": true
   },
   "outputs": [],
   "source": [
    "# calculate means and std's\n",
    "train_scores_mean = np.mean (train_scores, axis = 1)\n",
    "train_scores_std = np.std (train_scores, axis = 1)\n",
    "test_scores_mean = np.mean (test_scores, axis = 1)\n",
    "test_scores_std = np.std (test_scores, axis = 1)"
   ]
  },
  {
   "cell_type": "code",
   "execution_count": 87,
   "metadata": {
    "collapsed": false
   },
   "outputs": [
    {
     "data": {
      "image/png": "[encoded data removed]",
      "text/plain": [
       "<matplotlib.figure.Figure at 0x1184de128>"
      ]
     },
     "metadata": {},
     "output_type": "display_data"
    }
   ],
   "source": [
    "plt.fill_between(param_range, \n",
    "                 train_scores_mean - train_scores_std, \n",
    "                 train_scores_mean + train_scores_std, \n",
    "                 alpha = 0.5, color = 'blue')\n",
    "plt.fill_between(param_range, \n",
    "                 test_scores_mean - test_scores_std, \n",
    "                 test_scores_mean + test_scores_std, \n",
    "                 alpha = 0.5, color = 'red')\n",
    "plt.plot(param_range, train_scores_mean, color = 'blue', label='Training accuracy')\n",
    "plt.plot(param_range, test_scores_mean, color = 'red', label='Test accuracy')\n",
    "plt.xscale('log')\n",
    "plt.legend(loc='lower left')\n",
    "plt.title('Validation curve')\n",
    "plt.xlabel('Parameter gamma')\n",
    "plt.ylabel('Accuracy')\n",
    "plt.ylim([0.8,1.0])\n",
    "plt.show()"
   ]
  },
  {
   "cell_type": "markdown",
   "metadata": {},
   "source": [
    "### Hyperparameters tuning via grid search\n",
    "\n",
    "Grid search is the way how we can tune our parameters ($C$ and $\\gamma$ for example)"
   ]
  },
  {
   "cell_type": "code",
   "execution_count": 88,
   "metadata": {
    "collapsed": true
   },
   "outputs": [],
   "source": [
    "# define pipeline of methods\n",
    "pipe_clf = Pipeline([('sc', StandardScaler()),('clf', SVC())])"
   ]
  },
  {
   "cell_type": "code",
   "execution_count": 89,
   "metadata": {
    "collapsed": true
   },
   "outputs": [],
   "source": [
    "# define parameter range for C and gamma\n",
    "param_range = [0.001, 0.01, 0.1, 1., 10., 100., 1000.]"
   ]
  },
  {
   "cell_type": "code",
   "execution_count": 90,
   "metadata": {
    "collapsed": false
   },
   "outputs": [],
   "source": [
    "#param_range = np.logspace(start=-2, stop=3., num=10, endpoint=True, base=10)"
   ]
  },
  {
   "cell_type": "code",
   "execution_count": 91,
   "metadata": {
    "collapsed": true
   },
   "outputs": [],
   "source": [
    "# define parameter grid for search\n",
    "param_grid = [{'clf__C': param_range, 'clf__gamma': param_range, 'clf__kernel': ['rbf']}]"
   ]
  },
  {
   "cell_type": "code",
   "execution_count": 92,
   "metadata": {
    "collapsed": false
   },
   "outputs": [],
   "source": [
    "# define grid search engine\n",
    "gs = GridSearchCV(estimator=pipe_clf, \n",
    "                  param_grid=param_grid, \n",
    "                  scoring='accuracy', \n",
    "                  cv=10,\n",
    "                  n_jobs=1)"
   ]
  },
  {
   "cell_type": "code",
   "execution_count": 93,
   "metadata": {
    "collapsed": false
   },
   "outputs": [],
   "source": [
    "# perform grid search\n",
    "gs = gs.fit(X_train, y_train)"
   ]
  },
  {
   "cell_type": "code",
   "execution_count": 94,
   "metadata": {
    "collapsed": false
   },
   "outputs": [
    {
     "name": "stdout",
     "output_type": "stream",
     "text": [
      "Best score: 0.956\n",
      "Best parameters: {'clf__kernel': 'rbf', 'clf__C': 1.0, 'clf__gamma': 10.0}\n"
     ]
    }
   ],
   "source": [
    "print('Best score: %.3f' % gs.best_score_)\n",
    "print('Best parameters:', gs.best_params_)"
   ]
  },
  {
   "cell_type": "code",
   "execution_count": null,
   "metadata": {
    "collapsed": true
   },
   "outputs": [],
   "source": []
  }
 ],
 "metadata": {
  "anaconda-cloud": {},
  "kernelspec": {
   "display_name": "Python [Root]",
   "language": "python",
   "name": "Python [Root]"
  },
  "language_info": {
   "codemirror_mode": {
    "name": "ipython",
    "version": 3
   },
   "file_extension": ".py",
   "mimetype": "text/x-python",
   "name": "python",
   "nbconvert_exporter": "python",
   "pygments_lexer": "ipython3",
   "version": "3.5.2"
  }
 },
 "nbformat": 4,
 "nbformat_minor": 0
}
