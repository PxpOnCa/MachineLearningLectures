{
 "cells": [
  {
   "cell_type": "code",
   "execution_count": 1,
   "metadata": {
    "collapsed": true
   },
   "outputs": [],
   "source": [
    "%matplotlib inline"
   ]
  },
  {
   "cell_type": "code",
   "execution_count": 3,
   "metadata": {
    "collapsed": true
   },
   "outputs": [],
   "source": [
    "%load_ext line_profiler"
   ]
  },
  {
   "cell_type": "code",
   "execution_count": 4,
   "metadata": {
    "collapsed": true
   },
   "outputs": [],
   "source": [
    "import numpy as np\n",
    "import pandas as pd\n",
    "import matplotlib.pyplot as plt"
   ]
  },
  {
   "cell_type": "code",
   "execution_count": 5,
   "metadata": {
    "collapsed": true
   },
   "outputs": [],
   "source": [
    "import tensorflow as tf"
   ]
  },
  {
   "cell_type": "code",
   "execution_count": 6,
   "metadata": {
    "collapsed": true
   },
   "outputs": [],
   "source": [
    "from scipy.stats import norm"
   ]
  },
  {
   "cell_type": "code",
   "execution_count": 7,
   "metadata": {
    "collapsed": true
   },
   "outputs": [],
   "source": [
    "from timeit import default_timer as timer"
   ]
  },
  {
   "cell_type": "markdown",
   "metadata": {},
   "source": [
    "### TensorFlow Graph vizualization\n",
    "\n",
    "* https://github.com/tensorflow/tensorflow/blob/master/tensorflow/examples/tutorials/deepdream/deepdream.ipynb\n",
    "* http://stackoverflow.com/questions/38189119/simple-way-to-visualize-a-tensorflow-graph-in-jupyter\n",
    "* http://nbviewer.jupyter.org/github/tensorflow/tensorflow/blob/master/tensorflow/examples/tutorials/deepdream/deepdream.ipynb"
   ]
  },
  {
   "cell_type": "code",
   "execution_count": 8,
   "metadata": {
    "collapsed": true
   },
   "outputs": [],
   "source": [
    "from IPython.display import clear_output, Image, display, HTML\n",
    "\n",
    "def strip_consts(graph_def, max_const_size=32):\n",
    "    \"\"\"Strip large constant values from graph_def.\"\"\"\n",
    "    strip_def = tf.GraphDef()\n",
    "    for n0 in graph_def.node:\n",
    "        n = strip_def.node.add() \n",
    "        n.MergeFrom(n0)\n",
    "        if n.op == 'Const':\n",
    "            tensor = n.attr['value'].tensor\n",
    "            size = len(tensor.tensor_content)\n",
    "            if size > max_const_size:\n",
    "                tensor.tensor_content = bytes(\"<stripped %d bytes>\"%size, 'utf-8')\n",
    "    return strip_def\n",
    "  \n",
    "def rename_nodes(graph_def, rename_func):\n",
    "    res_def = tf.GraphDef()\n",
    "    for n0 in graph_def.node:\n",
    "        n = res_def.node.add() \n",
    "        n.MergeFrom(n0)\n",
    "        n.name = rename_func(n.name)\n",
    "        for i, s in enumerate(n.input):\n",
    "            n.input[i] = rename_func(s) if s[0]!='^' else '^'+rename_func(s[1:])\n",
    "    return res_def\n",
    "  \n",
    "def show_graph(graph_def, max_const_size=32):\n",
    "    \"\"\"Visualize TensorFlow graph.\"\"\"\n",
    "    if hasattr(graph_def, 'as_graph_def'):\n",
    "        graph_def = graph_def.as_graph_def()\n",
    "    strip_def = strip_consts(graph_def, max_const_size=max_const_size)\n",
    "    code = \"\"\"\n",
    "        <script>\n",
    "          function load() {{\n",
    "            document.getElementById(\"{id}\").pbtxt = {data};\n",
    "          }}\n",
    "        </script>\n",
    "        <link rel=\"import\" href=\"https://tensorboard.appspot.com/tf-graph-basic.build.html\" onload=load()>\n",
    "        <div style=\"height:600px\">\n",
    "          <tf-graph-basic id=\"{id}\"></tf-graph-basic>\n",
    "        </div>\n",
    "    \"\"\".format(data=repr(str(strip_def)), id='graph'+str(np.random.rand()))\n",
    "  \n",
    "    iframe = \"\"\"\n",
    "        <iframe seamless style=\"width:800px;height:620px;border:0\" srcdoc=\"{}\"></iframe>\n",
    "    \"\"\".format(code.replace('\"', '&quot;'))\n",
    "    display(HTML(iframe))"
   ]
  },
  {
   "cell_type": "markdown",
   "metadata": {},
   "source": [
    "# Kalman Filter with TensorFlow"
   ]
  },
  {
   "cell_type": "code",
   "execution_count": 9,
   "metadata": {
    "collapsed": true
   },
   "outputs": [],
   "source": [
    "class DynamicSystem(object):\n",
    "\n",
    "    def __init__(self, x = None, F = None, H = None, sigma = 1.0):\n",
    "        self.x = x\n",
    "        self.F = F\n",
    "        self.H = H\n",
    "        self.sigma = sigma\n",
    "\n",
    "    def simulate(self, n):\n",
    "        self.y =[]\n",
    "        self.track =[]\n",
    "        x = self.x\n",
    "        for i in range (n):\n",
    "            x = np.dot (self.F, x)\n",
    "            self.y.append (np.dot (self.H, x))\n",
    "            self.track.append (x)\n",
    "        return np.array (self.y)"
   ]
  },
  {
   "cell_type": "code",
   "execution_count": 10,
   "metadata": {
    "collapsed": true
   },
   "outputs": [],
   "source": [
    "class TFKalmanFilter(object):\n",
    "\n",
    "    def __init__(self, state_dim, obs_dim, F, H, summary = False):\n",
    "\n",
    "        self.state_dim = state_dim\n",
    "        self.obs_dim = obs_dim\n",
    "\n",
    "        self.X0 = np.zeros(self.state_dim)\n",
    "        self.P0 = np.eye(self.state_dim)\n",
    "\n",
    "        self.summary = summary\n",
    "        self._F = F\n",
    "        self._H = H\n",
    "        self._create_computational_graph()\n",
    "\n",
    "\n",
    "    def _create_computational_graph(self):\n",
    "        self._graph = tf.Graph()\n",
    "        with self._graph.as_default():\n",
    "            self.ym = tf.placeholder(dtype=tf.float32, shape=[self.obs_dim], name='ym')\n",
    "            with tf.name_scope('Model_Definition'):\n",
    "                self.F = tf.constant(self._F, dtype=tf.float32, name='F')\n",
    "                self.H = tf.constant(self._H, dtype=tf.float32, name='H')\n",
    "\n",
    "                self.R = tf.constant(np.eye(self.obs_dim), dtype=tf.float32, name='R')\n",
    "                self.I = tf.constant(np.eye(self.state_dim), dtype=tf.float32, name='I')\n",
    "            # initial state\n",
    "            with tf.name_scope('State_Initialization'):\n",
    "                self.X = tf.Variable(tf.convert_to_tensor(self.X0, dtype=tf.float32), dtype=tf.float32, name='X')\n",
    "                self.P = tf.Variable(tf.convert_to_tensor(self.P0, dtype=tf.float32), dtype=tf.float32, name='P')\n",
    "            # predict new state\n",
    "            with tf.name_scope('State_Prediction'):\n",
    "                Xf = tf.reduce_sum(tf.multiply(self.F, self.X), axis=1, name='Xf')\n",
    "                Pf = tf.matmul(self.F, tf.matmul(self.P, tf.transpose(self.F)), name='Pf')\n",
    "            # predict observation and get renewal\n",
    "            with tf.name_scope('Observation_Prediction'):\n",
    "                self.yf = tf.reduce_sum(tf.multiply(self.H, Xf), axis=1, name='yf')\n",
    "                mu = tf.subtract(self.ym, self.yf, name='mu')\n",
    "            # compute Kalman gain \n",
    "            with tf.name_scope('Kalman_Gain'):\n",
    "                S = tf.matrix_inverse(tf.add(tf.matmul(self.H, tf.matmul(Pf, tf.transpose(self.H))), self.R), name='S')\n",
    "                K = tf.matmul(tf.matmul(Pf, tf.transpose(self.H)), S, name='K')\n",
    "            # correct state\n",
    "            with tf.name_scope('State_Correction'):\n",
    "                Xup = tf.add(Xf, tf.reduce_sum(tf.multiply(K, mu), axis=1), name='Xup')\n",
    "                Pup = tf.matmul(tf.subtract(self.I, tf.matmul(K, self.H)), Pf, name='Pup')\n",
    "            # assign new state\n",
    "            with tf.name_scope('State_Update'):\n",
    "                self.X = tf.assign(self.X, Xup)\n",
    "                self.P = tf.assign(self.P, Pup)\n",
    "            if self.summary:\n",
    "                self.X_hist = tf.summary.histogram('X', self.X)\n",
    "                self.P_hist = tf.summary.histogram('P', self.P)\n",
    "\n",
    "    def initialize_state(self, X, P):\n",
    "        reset = False\n",
    "        if X is not None:\n",
    "            self.X0 = X\n",
    "            reset = True\n",
    "        if P is not None:\n",
    "            self.P0 = P\n",
    "            reset = True\n",
    "        if reset:\n",
    "            tf.reset_default_graph()\n",
    "            self._create_computational_graph()\n",
    "\n",
    "\n",
    "    def fit(self, y, X = None, P = None, summary = False):\n",
    "\n",
    "        self.initialize_state(X, P)\n",
    "\n",
    "        self.y_fit = []\n",
    "        self.X_trace = []\n",
    "        self.P_trace = []\n",
    "\n",
    "        with tf.Session(graph=self._graph) as sess:\n",
    "            if self.summary:\n",
    "                # Merge all the summaries and write them out to logs\n",
    "                merged = tf.summary.merge_all()\n",
    "                writer = tf.summary.FileWriter(\"logs\", self._graph)\n",
    "\n",
    "            sess.run(tf.global_variables_initializer())\n",
    "\n",
    "            for i, y_ in enumerate(y):\n",
    "                if self.summary:\n",
    "                    X_, P_, yf_, summary_str = sess.run([self.X, self.P, self.yf, merged], feed_dict={self.ym: y_})\n",
    "                else:\n",
    "                    X_, P_, yf_ = sess.run([self.X, self.P, self.yf], feed_dict={self.ym: y_})\n",
    "                self.y_fit.append(yf_)\n",
    "                self.X_trace.append(X_)\n",
    "                self.P_trace.append(P_)\n",
    "                if self.summary:\n",
    "                    writer.add_summary(summary_str, i)\n",
    "            if self.summary:\n",
    "                writer.close()\n",
    "        self.y_fit = np.array(self.y_fit)\n",
    "\n",
    "        return self.y_fit"
   ]
  },
  {
   "cell_type": "code",
   "execution_count": 11,
   "metadata": {
    "collapsed": true
   },
   "outputs": [],
   "source": [
    "F = np.array([[1, 0, 1, 0], [0, 1, 0, 1], [0, 0, 1, 0], [0, 0, 0, 1]], dtype='float32')\n",
    "H = np.array([[1, 0, 0, 0], [0, 1, 0, 0]], dtype='float32')\n",
    "X = np.array([0.5, 0.5, 0.2, 0.3])\n",
    "ds = DynamicSystem(X, F, H)\n",
    "n = 100\n",
    "Y = ds.simulate(n) + norm.rvs(loc=0, scale=5., size=n * 2).reshape(n, 2)\n",
    "Y = np.asarray(Y, dtype='float32')\n",
    "R = np.eye(2, dtype='float32') * .1\n",
    "I = np.eye(4, dtype='float32')\n",
    "X0 = np.zeros(4, dtype='float32')\n",
    "P0 = np.eye(4, dtype='float32') * .1"
   ]
  },
  {
   "cell_type": "code",
   "execution_count": 12,
   "metadata": {
    "collapsed": true
   },
   "outputs": [],
   "source": [
    "kf = TFKalmanFilter(4, 2, F, H)\n",
    "kf.initialize_state(X0, P0)\n",
    "y_fit = kf.fit(Y)"
   ]
  },
  {
   "cell_type": "code",
   "execution_count": 13,
   "metadata": {
    "collapsed": false
   },
   "outputs": [
    {
     "data": {
      "image/png": "[encoded data removed]",
      "text/plain": [
       "<matplotlib.figure.Figure at 0x11826a160>"
      ]
     },
     "metadata": {},
     "output_type": "display_data"
    }
   ],
   "source": [
    "y_true = ds.simulate(n)\n",
    "plt.scatter(Y.T[0], Y.T[1], alpha=0.1)\n",
    "plt.plot(y_fit.T[0], y_fit.T[1], lw=3, color='red')\n",
    "plt.plot(y_true.T[0], y_true.T[1]);"
   ]
  },
  {
   "cell_type": "markdown",
   "metadata": {},
   "source": [
    "### Tensor Board"
   ]
  },
  {
   "cell_type": "code",
   "execution_count": 14,
   "metadata": {
    "collapsed": false
   },
   "outputs": [
    {
     "data": {
      "text/html": [
       "\n",
       "        <iframe seamless style=\"width:800px;height:620px;border:0\" srcdoc=\"\n",
       "        <script>\n",
       "          function load() {\n",
       "            document.getElementById(&quot;graph0.08512928108707507&quot;).pbtxt = 'node {\\n  name: &quot;ym&quot;\\n  op: &quot;Placeholder&quot;\\n  attr {\\n    key: &quot;dtype&quot;\\n    value {\\n      type: DT_FLOAT\\n    }\\n  }\\n  attr {\\n    key: &quot;shape&quot;\\n    value {\\n      shape {\\n        dim {\\n          size: 2\\n        }\\n      }\\n    }\\n  }\\n}\\nnode {\\n  name: &quot;Model_Definition/F&quot;\\n  op: &quot;Const&quot;\\n  attr {\\n    key: &quot;dtype&quot;\\n    value {\\n      type: DT_FLOAT\\n    }\\n  }\\n  attr {\\n    key: &quot;value&quot;\\n    value {\\n      tensor {\\n        dtype: DT_FLOAT\\n        tensor_shape {\\n          dim {\\n            size: 4\\n          }\\n          dim {\\n            size: 4\\n          }\\n        }\\n        tensor_content: &quot;<stripped 64 bytes>&quot;\\n      }\\n    }\\n  }\\n}\\nnode {\\n  name: &quot;Model_Definition/H&quot;\\n  op: &quot;Const&quot;\\n  attr {\\n    key: &quot;dtype&quot;\\n    value {\\n      type: DT_FLOAT\\n    }\\n  }\\n  attr {\\n    key: &quot;value&quot;\\n    value {\\n      tensor {\\n        dtype: DT_FLOAT\\n        tensor_shape {\\n          dim {\\n            size: 2\\n          }\\n          dim {\\n            size: 4\\n          }\\n        }\\n        tensor_content: &quot;\\\\000\\\\000\\\\200?\\\\000\\\\000\\\\000\\\\000\\\\000\\\\000\\\\000\\\\000\\\\000\\\\000\\\\000\\\\000\\\\000\\\\000\\\\000\\\\000\\\\000\\\\000\\\\200?\\\\000\\\\000\\\\000\\\\000\\\\000\\\\000\\\\000\\\\000&quot;\\n      }\\n    }\\n  }\\n}\\nnode {\\n  name: &quot;Model_Definition/R&quot;\\n  op: &quot;Const&quot;\\n  attr {\\n    key: &quot;dtype&quot;\\n    value {\\n      type: DT_FLOAT\\n    }\\n  }\\n  attr {\\n    key: &quot;value&quot;\\n    value {\\n      tensor {\\n        dtype: DT_FLOAT\\n        tensor_shape {\\n          dim {\\n            size: 2\\n          }\\n          dim {\\n            size: 2\\n          }\\n        }\\n        tensor_content: &quot;\\\\000\\\\000\\\\200?\\\\000\\\\000\\\\000\\\\000\\\\000\\\\000\\\\000\\\\000\\\\000\\\\000\\\\200?&quot;\\n      }\\n    }\\n  }\\n}\\nnode {\\n  name: &quot;Model_Definition/I&quot;\\n  op: &quot;Const&quot;\\n  attr {\\n    key: &quot;dtype&quot;\\n    value {\\n      type: DT_FLOAT\\n    }\\n  }\\n  attr {\\n    key: &quot;value&quot;\\n    value {\\n      tensor {\\n        dtype: DT_FLOAT\\n        tensor_shape {\\n          dim {\\n            size: 4\\n          }\\n          dim {\\n            size: 4\\n          }\\n        }\\n        tensor_content: &quot;<stripped 64 bytes>&quot;\\n      }\\n    }\\n  }\\n}\\nnode {\\n  name: &quot;State_Initialization/Const&quot;\\n  op: &quot;Const&quot;\\n  attr {\\n    key: &quot;dtype&quot;\\n    value {\\n      type: DT_FLOAT\\n    }\\n  }\\n  attr {\\n    key: &quot;value&quot;\\n    value {\\n      tensor {\\n        dtype: DT_FLOAT\\n        tensor_shape {\\n          dim {\\n            size: 4\\n          }\\n        }\\n        tensor_content: &quot;\\\\000\\\\000\\\\000\\\\000\\\\000\\\\000\\\\000\\\\000\\\\000\\\\000\\\\000\\\\000\\\\000\\\\000\\\\000\\\\000&quot;\\n      }\\n    }\\n  }\\n}\\nnode {\\n  name: &quot;State_Initialization/X&quot;\\n  op: &quot;VariableV2&quot;\\n  attr {\\n    key: &quot;container&quot;\\n    value {\\n      s: &quot;&quot;\\n    }\\n  }\\n  attr {\\n    key: &quot;dtype&quot;\\n    value {\\n      type: DT_FLOAT\\n    }\\n  }\\n  attr {\\n    key: &quot;shape&quot;\\n    value {\\n      shape {\\n        dim {\\n          size: 4\\n        }\\n      }\\n    }\\n  }\\n  attr {\\n    key: &quot;shared_name&quot;\\n    value {\\n      s: &quot;&quot;\\n    }\\n  }\\n}\\nnode {\\n  name: &quot;State_Initialization/X/Assign&quot;\\n  op: &quot;Assign&quot;\\n  input: &quot;State_Initialization/X&quot;\\n  input: &quot;State_Initialization/Const&quot;\\n  attr {\\n    key: &quot;T&quot;\\n    value {\\n      type: DT_FLOAT\\n    }\\n  }\\n  attr {\\n    key: &quot;_class&quot;\\n    value {\\n      list {\\n        s: &quot;loc:@State_Initialization/X&quot;\\n      }\\n    }\\n  }\\n  attr {\\n    key: &quot;use_locking&quot;\\n    value {\\n      b: true\\n    }\\n  }\\n  attr {\\n    key: &quot;validate_shape&quot;\\n    value {\\n      b: true\\n    }\\n  }\\n}\\nnode {\\n  name: &quot;State_Initialization/X/read&quot;\\n  op: &quot;Identity&quot;\\n  input: &quot;State_Initialization/X&quot;\\n  attr {\\n    key: &quot;T&quot;\\n    value {\\n      type: DT_FLOAT\\n    }\\n  }\\n  attr {\\n    key: &quot;_class&quot;\\n    value {\\n      list {\\n        s: &quot;loc:@State_Initialization/X&quot;\\n      }\\n    }\\n  }\\n}\\nnode {\\n  name: &quot;State_Initialization/Const_1&quot;\\n  op: &quot;Const&quot;\\n  attr {\\n    key: &quot;dtype&quot;\\n    value {\\n      type: DT_FLOAT\\n    }\\n  }\\n  attr {\\n    key: &quot;value&quot;\\n    value {\\n      tensor {\\n        dtype: DT_FLOAT\\n        tensor_shape {\\n          dim {\\n            size: 4\\n          }\\n          dim {\\n            size: 4\\n          }\\n        }\\n        tensor_content: &quot;<stripped 64 bytes>&quot;\\n      }\\n    }\\n  }\\n}\\nnode {\\n  name: &quot;State_Initialization/P&quot;\\n  op: &quot;VariableV2&quot;\\n  attr {\\n    key: &quot;container&quot;\\n    value {\\n      s: &quot;&quot;\\n    }\\n  }\\n  attr {\\n    key: &quot;dtype&quot;\\n    value {\\n      type: DT_FLOAT\\n    }\\n  }\\n  attr {\\n    key: &quot;shape&quot;\\n    value {\\n      shape {\\n        dim {\\n          size: 4\\n        }\\n        dim {\\n          size: 4\\n        }\\n      }\\n    }\\n  }\\n  attr {\\n    key: &quot;shared_name&quot;\\n    value {\\n      s: &quot;&quot;\\n    }\\n  }\\n}\\nnode {\\n  name: &quot;State_Initialization/P/Assign&quot;\\n  op: &quot;Assign&quot;\\n  input: &quot;State_Initialization/P&quot;\\n  input: &quot;State_Initialization/Const_1&quot;\\n  attr {\\n    key: &quot;T&quot;\\n    value {\\n      type: DT_FLOAT\\n    }\\n  }\\n  attr {\\n    key: &quot;_class&quot;\\n    value {\\n      list {\\n        s: &quot;loc:@State_Initialization/P&quot;\\n      }\\n    }\\n  }\\n  attr {\\n    key: &quot;use_locking&quot;\\n    value {\\n      b: true\\n    }\\n  }\\n  attr {\\n    key: &quot;validate_shape&quot;\\n    value {\\n      b: true\\n    }\\n  }\\n}\\nnode {\\n  name: &quot;State_Initialization/P/read&quot;\\n  op: &quot;Identity&quot;\\n  input: &quot;State_Initialization/P&quot;\\n  attr {\\n    key: &quot;T&quot;\\n    value {\\n      type: DT_FLOAT\\n    }\\n  }\\n  attr {\\n    key: &quot;_class&quot;\\n    value {\\n      list {\\n        s: &quot;loc:@State_Initialization/P&quot;\\n      }\\n    }\\n  }\\n}\\nnode {\\n  name: &quot;State_Prediction/Mul&quot;\\n  op: &quot;Mul&quot;\\n  input: &quot;Model_Definition/F&quot;\\n  input: &quot;State_Initialization/X/read&quot;\\n  attr {\\n    key: &quot;T&quot;\\n    value {\\n      type: DT_FLOAT\\n    }\\n  }\\n}\\nnode {\\n  name: &quot;State_Prediction/Xf/reduction_indices&quot;\\n  op: &quot;Const&quot;\\n  attr {\\n    key: &quot;dtype&quot;\\n    value {\\n      type: DT_INT32\\n    }\\n  }\\n  attr {\\n    key: &quot;value&quot;\\n    value {\\n      tensor {\\n        dtype: DT_INT32\\n        tensor_shape {\\n        }\\n        int_val: 1\\n      }\\n    }\\n  }\\n}\\nnode {\\n  name: &quot;State_Prediction/Xf&quot;\\n  op: &quot;Sum&quot;\\n  input: &quot;State_Prediction/Mul&quot;\\n  input: &quot;State_Prediction/Xf/reduction_indices&quot;\\n  attr {\\n    key: &quot;T&quot;\\n    value {\\n      type: DT_FLOAT\\n    }\\n  }\\n  attr {\\n    key: &quot;Tidx&quot;\\n    value {\\n      type: DT_INT32\\n    }\\n  }\\n  attr {\\n    key: &quot;keep_dims&quot;\\n    value {\\n      b: false\\n    }\\n  }\\n}\\nnode {\\n  name: &quot;State_Prediction/transpose/Rank&quot;\\n  op: &quot;Rank&quot;\\n  input: &quot;Model_Definition/F&quot;\\n  attr {\\n    key: &quot;T&quot;\\n    value {\\n      type: DT_FLOAT\\n    }\\n  }\\n}\\nnode {\\n  name: &quot;State_Prediction/transpose/sub/y&quot;\\n  op: &quot;Const&quot;\\n  attr {\\n    key: &quot;dtype&quot;\\n    value {\\n      type: DT_INT32\\n    }\\n  }\\n  attr {\\n    key: &quot;value&quot;\\n    value {\\n      tensor {\\n        dtype: DT_INT32\\n        tensor_shape {\\n        }\\n        int_val: 1\\n      }\\n    }\\n  }\\n}\\nnode {\\n  name: &quot;State_Prediction/transpose/sub&quot;\\n  op: &quot;Sub&quot;\\n  input: &quot;State_Prediction/transpose/Rank&quot;\\n  input: &quot;State_Prediction/transpose/sub/y&quot;\\n  attr {\\n    key: &quot;T&quot;\\n    value {\\n      type: DT_INT32\\n    }\\n  }\\n}\\nnode {\\n  name: &quot;State_Prediction/transpose/Range/start&quot;\\n  op: &quot;Const&quot;\\n  attr {\\n    key: &quot;dtype&quot;\\n    value {\\n      type: DT_INT32\\n    }\\n  }\\n  attr {\\n    key: &quot;value&quot;\\n    value {\\n      tensor {\\n        dtype: DT_INT32\\n        tensor_shape {\\n        }\\n        int_val: 0\\n      }\\n    }\\n  }\\n}\\nnode {\\n  name: &quot;State_Prediction/transpose/Range/delta&quot;\\n  op: &quot;Const&quot;\\n  attr {\\n    key: &quot;dtype&quot;\\n    value {\\n      type: DT_INT32\\n    }\\n  }\\n  attr {\\n    key: &quot;value&quot;\\n    value {\\n      tensor {\\n        dtype: DT_INT32\\n        tensor_shape {\\n        }\\n        int_val: 1\\n      }\\n    }\\n  }\\n}\\nnode {\\n  name: &quot;State_Prediction/transpose/Range&quot;\\n  op: &quot;Range&quot;\\n  input: &quot;State_Prediction/transpose/Range/start&quot;\\n  input: &quot;State_Prediction/transpose/Rank&quot;\\n  input: &quot;State_Prediction/transpose/Range/delta&quot;\\n  attr {\\n    key: &quot;Tidx&quot;\\n    value {\\n      type: DT_INT32\\n    }\\n  }\\n}\\nnode {\\n  name: &quot;State_Prediction/transpose/sub_1&quot;\\n  op: &quot;Sub&quot;\\n  input: &quot;State_Prediction/transpose/sub&quot;\\n  input: &quot;State_Prediction/transpose/Range&quot;\\n  attr {\\n    key: &quot;T&quot;\\n    value {\\n      type: DT_INT32\\n    }\\n  }\\n}\\nnode {\\n  name: &quot;State_Prediction/transpose&quot;\\n  op: &quot;Transpose&quot;\\n  input: &quot;Model_Definition/F&quot;\\n  input: &quot;State_Prediction/transpose/sub_1&quot;\\n  attr {\\n    key: &quot;T&quot;\\n    value {\\n      type: DT_FLOAT\\n    }\\n  }\\n  attr {\\n    key: &quot;Tperm&quot;\\n    value {\\n      type: DT_INT32\\n    }\\n  }\\n}\\nnode {\\n  name: &quot;State_Prediction/MatMul&quot;\\n  op: &quot;MatMul&quot;\\n  input: &quot;State_Initialization/P/read&quot;\\n  input: &quot;State_Prediction/transpose&quot;\\n  attr {\\n    key: &quot;T&quot;\\n    value {\\n      type: DT_FLOAT\\n    }\\n  }\\n  attr {\\n    key: &quot;transpose_a&quot;\\n    value {\\n      b: false\\n    }\\n  }\\n  attr {\\n    key: &quot;transpose_b&quot;\\n    value {\\n      b: false\\n    }\\n  }\\n}\\nnode {\\n  name: &quot;State_Prediction/Pf&quot;\\n  op: &quot;MatMul&quot;\\n  input: &quot;Model_Definition/F&quot;\\n  input: &quot;State_Prediction/MatMul&quot;\\n  attr {\\n    key: &quot;T&quot;\\n    value {\\n      type: DT_FLOAT\\n    }\\n  }\\n  attr {\\n    key: &quot;transpose_a&quot;\\n    value {\\n      b: false\\n    }\\n  }\\n  attr {\\n    key: &quot;transpose_b&quot;\\n    value {\\n      b: false\\n    }\\n  }\\n}\\nnode {\\n  name: &quot;Observation_Prediction/Mul&quot;\\n  op: &quot;Mul&quot;\\n  input: &quot;Model_Definition/H&quot;\\n  input: &quot;State_Prediction/Xf&quot;\\n  attr {\\n    key: &quot;T&quot;\\n    value {\\n      type: DT_FLOAT\\n    }\\n  }\\n}\\nnode {\\n  name: &quot;Observation_Prediction/yf/reduction_indices&quot;\\n  op: &quot;Const&quot;\\n  attr {\\n    key: &quot;dtype&quot;\\n    value {\\n      type: DT_INT32\\n    }\\n  }\\n  attr {\\n    key: &quot;value&quot;\\n    value {\\n      tensor {\\n        dtype: DT_INT32\\n        tensor_shape {\\n        }\\n        int_val: 1\\n      }\\n    }\\n  }\\n}\\nnode {\\n  name: &quot;Observation_Prediction/yf&quot;\\n  op: &quot;Sum&quot;\\n  input: &quot;Observation_Prediction/Mul&quot;\\n  input: &quot;Observation_Prediction/yf/reduction_indices&quot;\\n  attr {\\n    key: &quot;T&quot;\\n    value {\\n      type: DT_FLOAT\\n    }\\n  }\\n  attr {\\n    key: &quot;Tidx&quot;\\n    value {\\n      type: DT_INT32\\n    }\\n  }\\n  attr {\\n    key: &quot;keep_dims&quot;\\n    value {\\n      b: false\\n    }\\n  }\\n}\\nnode {\\n  name: &quot;Observation_Prediction/mu&quot;\\n  op: &quot;Sub&quot;\\n  input: &quot;ym&quot;\\n  input: &quot;Observation_Prediction/yf&quot;\\n  attr {\\n    key: &quot;T&quot;\\n    value {\\n      type: DT_FLOAT\\n    }\\n  }\\n}\\nnode {\\n  name: &quot;Kalman_Gain/transpose/Rank&quot;\\n  op: &quot;Rank&quot;\\n  input: &quot;Model_Definition/H&quot;\\n  attr {\\n    key: &quot;T&quot;\\n    value {\\n      type: DT_FLOAT\\n    }\\n  }\\n}\\nnode {\\n  name: &quot;Kalman_Gain/transpose/sub/y&quot;\\n  op: &quot;Const&quot;\\n  attr {\\n    key: &quot;dtype&quot;\\n    value {\\n      type: DT_INT32\\n    }\\n  }\\n  attr {\\n    key: &quot;value&quot;\\n    value {\\n      tensor {\\n        dtype: DT_INT32\\n        tensor_shape {\\n        }\\n        int_val: 1\\n      }\\n    }\\n  }\\n}\\nnode {\\n  name: &quot;Kalman_Gain/transpose/sub&quot;\\n  op: &quot;Sub&quot;\\n  input: &quot;Kalman_Gain/transpose/Rank&quot;\\n  input: &quot;Kalman_Gain/transpose/sub/y&quot;\\n  attr {\\n    key: &quot;T&quot;\\n    value {\\n      type: DT_INT32\\n    }\\n  }\\n}\\nnode {\\n  name: &quot;Kalman_Gain/transpose/Range/start&quot;\\n  op: &quot;Const&quot;\\n  attr {\\n    key: &quot;dtype&quot;\\n    value {\\n      type: DT_INT32\\n    }\\n  }\\n  attr {\\n    key: &quot;value&quot;\\n    value {\\n      tensor {\\n        dtype: DT_INT32\\n        tensor_shape {\\n        }\\n        int_val: 0\\n      }\\n    }\\n  }\\n}\\nnode {\\n  name: &quot;Kalman_Gain/transpose/Range/delta&quot;\\n  op: &quot;Const&quot;\\n  attr {\\n    key: &quot;dtype&quot;\\n    value {\\n      type: DT_INT32\\n    }\\n  }\\n  attr {\\n    key: &quot;value&quot;\\n    value {\\n      tensor {\\n        dtype: DT_INT32\\n        tensor_shape {\\n        }\\n        int_val: 1\\n      }\\n    }\\n  }\\n}\\nnode {\\n  name: &quot;Kalman_Gain/transpose/Range&quot;\\n  op: &quot;Range&quot;\\n  input: &quot;Kalman_Gain/transpose/Range/start&quot;\\n  input: &quot;Kalman_Gain/transpose/Rank&quot;\\n  input: &quot;Kalman_Gain/transpose/Range/delta&quot;\\n  attr {\\n    key: &quot;Tidx&quot;\\n    value {\\n      type: DT_INT32\\n    }\\n  }\\n}\\nnode {\\n  name: &quot;Kalman_Gain/transpose/sub_1&quot;\\n  op: &quot;Sub&quot;\\n  input: &quot;Kalman_Gain/transpose/sub&quot;\\n  input: &quot;Kalman_Gain/transpose/Range&quot;\\n  attr {\\n    key: &quot;T&quot;\\n    value {\\n      type: DT_INT32\\n    }\\n  }\\n}\\nnode {\\n  name: &quot;Kalman_Gain/transpose&quot;\\n  op: &quot;Transpose&quot;\\n  input: &quot;Model_Definition/H&quot;\\n  input: &quot;Kalman_Gain/transpose/sub_1&quot;\\n  attr {\\n    key: &quot;T&quot;\\n    value {\\n      type: DT_FLOAT\\n    }\\n  }\\n  attr {\\n    key: &quot;Tperm&quot;\\n    value {\\n      type: DT_INT32\\n    }\\n  }\\n}\\nnode {\\n  name: &quot;Kalman_Gain/MatMul&quot;\\n  op: &quot;MatMul&quot;\\n  input: &quot;State_Prediction/Pf&quot;\\n  input: &quot;Kalman_Gain/transpose&quot;\\n  attr {\\n    key: &quot;T&quot;\\n    value {\\n      type: DT_FLOAT\\n    }\\n  }\\n  attr {\\n    key: &quot;transpose_a&quot;\\n    value {\\n      b: false\\n    }\\n  }\\n  attr {\\n    key: &quot;transpose_b&quot;\\n    value {\\n      b: false\\n    }\\n  }\\n}\\nnode {\\n  name: &quot;Kalman_Gain/MatMul_1&quot;\\n  op: &quot;MatMul&quot;\\n  input: &quot;Model_Definition/H&quot;\\n  input: &quot;Kalman_Gain/MatMul&quot;\\n  attr {\\n    key: &quot;T&quot;\\n    value {\\n      type: DT_FLOAT\\n    }\\n  }\\n  attr {\\n    key: &quot;transpose_a&quot;\\n    value {\\n      b: false\\n    }\\n  }\\n  attr {\\n    key: &quot;transpose_b&quot;\\n    value {\\n      b: false\\n    }\\n  }\\n}\\nnode {\\n  name: &quot;Kalman_Gain/Add&quot;\\n  op: &quot;Add&quot;\\n  input: &quot;Kalman_Gain/MatMul_1&quot;\\n  input: &quot;Model_Definition/R&quot;\\n  attr {\\n    key: &quot;T&quot;\\n    value {\\n      type: DT_FLOAT\\n    }\\n  }\\n}\\nnode {\\n  name: &quot;Kalman_Gain/S&quot;\\n  op: &quot;MatrixInverse&quot;\\n  input: &quot;Kalman_Gain/Add&quot;\\n  attr {\\n    key: &quot;T&quot;\\n    value {\\n      type: DT_FLOAT\\n    }\\n  }\\n  attr {\\n    key: &quot;adjoint&quot;\\n    value {\\n      b: false\\n    }\\n  }\\n}\\nnode {\\n  name: &quot;Kalman_Gain/transpose_1/Rank&quot;\\n  op: &quot;Rank&quot;\\n  input: &quot;Model_Definition/H&quot;\\n  attr {\\n    key: &quot;T&quot;\\n    value {\\n      type: DT_FLOAT\\n    }\\n  }\\n}\\nnode {\\n  name: &quot;Kalman_Gain/transpose_1/sub/y&quot;\\n  op: &quot;Const&quot;\\n  attr {\\n    key: &quot;dtype&quot;\\n    value {\\n      type: DT_INT32\\n    }\\n  }\\n  attr {\\n    key: &quot;value&quot;\\n    value {\\n      tensor {\\n        dtype: DT_INT32\\n        tensor_shape {\\n        }\\n        int_val: 1\\n      }\\n    }\\n  }\\n}\\nnode {\\n  name: &quot;Kalman_Gain/transpose_1/sub&quot;\\n  op: &quot;Sub&quot;\\n  input: &quot;Kalman_Gain/transpose_1/Rank&quot;\\n  input: &quot;Kalman_Gain/transpose_1/sub/y&quot;\\n  attr {\\n    key: &quot;T&quot;\\n    value {\\n      type: DT_INT32\\n    }\\n  }\\n}\\nnode {\\n  name: &quot;Kalman_Gain/transpose_1/Range/start&quot;\\n  op: &quot;Const&quot;\\n  attr {\\n    key: &quot;dtype&quot;\\n    value {\\n      type: DT_INT32\\n    }\\n  }\\n  attr {\\n    key: &quot;value&quot;\\n    value {\\n      tensor {\\n        dtype: DT_INT32\\n        tensor_shape {\\n        }\\n        int_val: 0\\n      }\\n    }\\n  }\\n}\\nnode {\\n  name: &quot;Kalman_Gain/transpose_1/Range/delta&quot;\\n  op: &quot;Const&quot;\\n  attr {\\n    key: &quot;dtype&quot;\\n    value {\\n      type: DT_INT32\\n    }\\n  }\\n  attr {\\n    key: &quot;value&quot;\\n    value {\\n      tensor {\\n        dtype: DT_INT32\\n        tensor_shape {\\n        }\\n        int_val: 1\\n      }\\n    }\\n  }\\n}\\nnode {\\n  name: &quot;Kalman_Gain/transpose_1/Range&quot;\\n  op: &quot;Range&quot;\\n  input: &quot;Kalman_Gain/transpose_1/Range/start&quot;\\n  input: &quot;Kalman_Gain/transpose_1/Rank&quot;\\n  input: &quot;Kalman_Gain/transpose_1/Range/delta&quot;\\n  attr {\\n    key: &quot;Tidx&quot;\\n    value {\\n      type: DT_INT32\\n    }\\n  }\\n}\\nnode {\\n  name: &quot;Kalman_Gain/transpose_1/sub_1&quot;\\n  op: &quot;Sub&quot;\\n  input: &quot;Kalman_Gain/transpose_1/sub&quot;\\n  input: &quot;Kalman_Gain/transpose_1/Range&quot;\\n  attr {\\n    key: &quot;T&quot;\\n    value {\\n      type: DT_INT32\\n    }\\n  }\\n}\\nnode {\\n  name: &quot;Kalman_Gain/transpose_1&quot;\\n  op: &quot;Transpose&quot;\\n  input: &quot;Model_Definition/H&quot;\\n  input: &quot;Kalman_Gain/transpose_1/sub_1&quot;\\n  attr {\\n    key: &quot;T&quot;\\n    value {\\n      type: DT_FLOAT\\n    }\\n  }\\n  attr {\\n    key: &quot;Tperm&quot;\\n    value {\\n      type: DT_INT32\\n    }\\n  }\\n}\\nnode {\\n  name: &quot;Kalman_Gain/MatMul_2&quot;\\n  op: &quot;MatMul&quot;\\n  input: &quot;State_Prediction/Pf&quot;\\n  input: &quot;Kalman_Gain/transpose_1&quot;\\n  attr {\\n    key: &quot;T&quot;\\n    value {\\n      type: DT_FLOAT\\n    }\\n  }\\n  attr {\\n    key: &quot;transpose_a&quot;\\n    value {\\n      b: false\\n    }\\n  }\\n  attr {\\n    key: &quot;transpose_b&quot;\\n    value {\\n      b: false\\n    }\\n  }\\n}\\nnode {\\n  name: &quot;Kalman_Gain/K&quot;\\n  op: &quot;MatMul&quot;\\n  input: &quot;Kalman_Gain/MatMul_2&quot;\\n  input: &quot;Kalman_Gain/S&quot;\\n  attr {\\n    key: &quot;T&quot;\\n    value {\\n      type: DT_FLOAT\\n    }\\n  }\\n  attr {\\n    key: &quot;transpose_a&quot;\\n    value {\\n      b: false\\n    }\\n  }\\n  attr {\\n    key: &quot;transpose_b&quot;\\n    value {\\n      b: false\\n    }\\n  }\\n}\\nnode {\\n  name: &quot;State_Correction/Mul&quot;\\n  op: &quot;Mul&quot;\\n  input: &quot;Kalman_Gain/K&quot;\\n  input: &quot;Observation_Prediction/mu&quot;\\n  attr {\\n    key: &quot;T&quot;\\n    value {\\n      type: DT_FLOAT\\n    }\\n  }\\n}\\nnode {\\n  name: &quot;State_Correction/Sum/reduction_indices&quot;\\n  op: &quot;Const&quot;\\n  attr {\\n    key: &quot;dtype&quot;\\n    value {\\n      type: DT_INT32\\n    }\\n  }\\n  attr {\\n    key: &quot;value&quot;\\n    value {\\n      tensor {\\n        dtype: DT_INT32\\n        tensor_shape {\\n        }\\n        int_val: 1\\n      }\\n    }\\n  }\\n}\\nnode {\\n  name: &quot;State_Correction/Sum&quot;\\n  op: &quot;Sum&quot;\\n  input: &quot;State_Correction/Mul&quot;\\n  input: &quot;State_Correction/Sum/reduction_indices&quot;\\n  attr {\\n    key: &quot;T&quot;\\n    value {\\n      type: DT_FLOAT\\n    }\\n  }\\n  attr {\\n    key: &quot;Tidx&quot;\\n    value {\\n      type: DT_INT32\\n    }\\n  }\\n  attr {\\n    key: &quot;keep_dims&quot;\\n    value {\\n      b: false\\n    }\\n  }\\n}\\nnode {\\n  name: &quot;State_Correction/Xup&quot;\\n  op: &quot;Add&quot;\\n  input: &quot;State_Prediction/Xf&quot;\\n  input: &quot;State_Correction/Sum&quot;\\n  attr {\\n    key: &quot;T&quot;\\n    value {\\n      type: DT_FLOAT\\n    }\\n  }\\n}\\nnode {\\n  name: &quot;State_Correction/MatMul&quot;\\n  op: &quot;MatMul&quot;\\n  input: &quot;Kalman_Gain/K&quot;\\n  input: &quot;Model_Definition/H&quot;\\n  attr {\\n    key: &quot;T&quot;\\n    value {\\n      type: DT_FLOAT\\n    }\\n  }\\n  attr {\\n    key: &quot;transpose_a&quot;\\n    value {\\n      b: false\\n    }\\n  }\\n  attr {\\n    key: &quot;transpose_b&quot;\\n    value {\\n      b: false\\n    }\\n  }\\n}\\nnode {\\n  name: &quot;State_Correction/Sub&quot;\\n  op: &quot;Sub&quot;\\n  input: &quot;Model_Definition/I&quot;\\n  input: &quot;State_Correction/MatMul&quot;\\n  attr {\\n    key: &quot;T&quot;\\n    value {\\n      type: DT_FLOAT\\n    }\\n  }\\n}\\nnode {\\n  name: &quot;State_Correction/Pup&quot;\\n  op: &quot;MatMul&quot;\\n  input: &quot;State_Correction/Sub&quot;\\n  input: &quot;State_Prediction/Pf&quot;\\n  attr {\\n    key: &quot;T&quot;\\n    value {\\n      type: DT_FLOAT\\n    }\\n  }\\n  attr {\\n    key: &quot;transpose_a&quot;\\n    value {\\n      b: false\\n    }\\n  }\\n  attr {\\n    key: &quot;transpose_b&quot;\\n    value {\\n      b: false\\n    }\\n  }\\n}\\nnode {\\n  name: &quot;State_Update/Assign&quot;\\n  op: &quot;Assign&quot;\\n  input: &quot;State_Initialization/X&quot;\\n  input: &quot;State_Correction/Xup&quot;\\n  attr {\\n    key: &quot;T&quot;\\n    value {\\n      type: DT_FLOAT\\n    }\\n  }\\n  attr {\\n    key: &quot;_class&quot;\\n    value {\\n      list {\\n        s: &quot;loc:@State_Initialization/X&quot;\\n      }\\n    }\\n  }\\n  attr {\\n    key: &quot;use_locking&quot;\\n    value {\\n      b: true\\n    }\\n  }\\n  attr {\\n    key: &quot;validate_shape&quot;\\n    value {\\n      b: true\\n    }\\n  }\\n}\\nnode {\\n  name: &quot;State_Update/Assign_1&quot;\\n  op: &quot;Assign&quot;\\n  input: &quot;State_Initialization/P&quot;\\n  input: &quot;State_Correction/Pup&quot;\\n  attr {\\n    key: &quot;T&quot;\\n    value {\\n      type: DT_FLOAT\\n    }\\n  }\\n  attr {\\n    key: &quot;_class&quot;\\n    value {\\n      list {\\n        s: &quot;loc:@State_Initialization/P&quot;\\n      }\\n    }\\n  }\\n  attr {\\n    key: &quot;use_locking&quot;\\n    value {\\n      b: true\\n    }\\n  }\\n  attr {\\n    key: &quot;validate_shape&quot;\\n    value {\\n      b: true\\n    }\\n  }\\n}\\nnode {\\n  name: &quot;init&quot;\\n  op: &quot;NoOp&quot;\\n  input: &quot;^State_Initialization/X/Assign&quot;\\n  input: &quot;^State_Initialization/P/Assign&quot;\\n}\\n';\n",
       "          }\n",
       "        </script>\n",
       "        <link rel=&quot;import&quot; href=&quot;https://tensorboard.appspot.com/tf-graph-basic.build.html&quot; onload=load()>\n",
       "        <div style=&quot;height:600px&quot;>\n",
       "          <tf-graph-basic id=&quot;graph0.08512928108707507&quot;></tf-graph-basic>\n",
       "        </div>\n",
       "    \"></iframe>\n",
       "    "
      ],
      "text/plain": [
       "<IPython.core.display.HTML object>"
      ]
     },
     "metadata": {},
     "output_type": "display_data"
    }
   ],
   "source": [
    "strip_def = strip_consts(kf._graph.as_graph_def())\n",
    "show_graph(strip_def)"
   ]
  },
  {
   "cell_type": "markdown",
   "metadata": {},
   "source": [
    "### Profiler"
   ]
  },
  {
   "cell_type": "code",
   "execution_count": 15,
   "metadata": {
    "collapsed": false
   },
   "outputs": [
    {
     "name": "stdout",
     "output_type": "stream",
     "text": [
      "\n",
      "*** Profile printout saved to text file 'lp_results.txt'. \n",
      "Timer unit: 1e-06 s\r\n",
      "\r\n",
      "Total time: 0.104894 s\r\n",
      "File: <ipython-input-10-33decfaee161>\r\n",
      "Function: fit at line 68\r\n",
      "\r\n",
      "Line #      Hits         Time  Per Hit   % Time  Line Contents\r\n",
      "==============================================================\r\n",
      "    68                                               def fit(self, y, X = None, P = None, summary = False):\r\n",
      "    69                                           \r\n",
      "    70         1            8      8.0      0.0          self.initialize_state(X, P)\r\n",
      "    71                                           \r\n",
      "    72         1            2      2.0      0.0          self.y_fit = []\r\n",
      "    73         1           81     81.0      0.1          self.X_trace = []\r\n",
      "    74         1           52     52.0      0.0          self.P_trace = []\r\n",
      "    75                                           \r\n",
      "    76         1          783    783.0      0.7          with tf.Session(graph=self._graph) as sess:\r\n",
      "    77         1            2      2.0      0.0              if self.summary:\r\n",
      "    78                                                           # Merge all the summaries and write them out to logs\r\n",
      "    79                                                           merged = tf.summary.merge_all()\r\n",
      "    80                                                           writer = tf.summary.FileWriter(\"logs\", self._graph)\r\n",
      "    81                                           \r\n",
      "    82         1        44886  44886.0     42.8              sess.run(tf.global_variables_initializer())\r\n",
      "    83                                           \r\n",
      "    84       101          257      2.5      0.2              for i, y_ in enumerate(y):\r\n",
      "    85       100           72      0.7      0.1                  if self.summary:\r\n",
      "    86                                                               X_, P_, yf_, summary_str = sess.run([self.X, self.P, self.yf, merged], feed_dict={self.ym: y_})\r\n",
      "    87                                                           else:\r\n",
      "    88       100        58094    580.9     55.4                      X_, P_, yf_ = sess.run([self.X, self.P, self.yf], feed_dict={self.ym: y_})\r\n",
      "    89       100          215      2.1      0.2                  self.y_fit.append(yf_)\r\n",
      "    90       100          120      1.2      0.1                  self.X_trace.append(X_)\r\n",
      "    91       100          117      1.2      0.1                  self.P_trace.append(P_)\r\n",
      "    92       100           67      0.7      0.1                  if self.summary:\r\n",
      "    93                                                               writer.add_summary(summary_str, i)\r\n",
      "    94         1           41     41.0      0.0              if self.summary:\r\n",
      "    95                                                           writer.close()\r\n",
      "    96         1           96     96.0      0.1          self.y_fit = np.array(self.y_fit)\r\n",
      "    97                                           \r\n",
      "    98         1            1      1.0      0.0          return self.y_fit"
     ]
    }
   ],
   "source": [
    "%lprun -s -f kf.fit -T lp_results.txt kf.fit(Y)\n",
    "%cat lp_results.txt"
   ]
  }
 ],
 "metadata": {
  "anaconda-cloud": {},
  "kernelspec": {
   "display_name": "Python [Root]",
   "language": "python",
   "name": "Python [Root]"
  },
  "language_info": {
   "codemirror_mode": {
    "name": "ipython",
    "version": 3
   },
   "file_extension": ".py",
   "mimetype": "text/x-python",
   "name": "python",
   "nbconvert_exporter": "python",
   "pygments_lexer": "ipython3",
   "version": "3.5.2"
  }
 },
 "nbformat": 4,
 "nbformat_minor": 0
}
