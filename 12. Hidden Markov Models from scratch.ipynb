{
 "cells": [
  {
   "cell_type": "code",
   "execution_count": 1,
   "metadata": {
    "collapsed": true
   },
   "outputs": [],
   "source": [
    "%matplotlib inline"
   ]
  },
  {
   "cell_type": "markdown",
   "metadata": {},
   "source": [
    "user-defined LaTeX commands\n",
    "$\\newcommand{\\Er}{\\mathcal{E}}$\n",
    "$\\newcommand{\\Xset}{\\mathcal{X}}$\n",
    "$\\newcommand{\\Yset}{\\mathcal{Y}}$\n",
    "$\\newcommand{\\L}{\\mathcal{L}}$\n",
    "$\\newcommand{\\l}{\\mathcal{l}}$\n",
    "$\\newcommand{\\pr}{\\mathbb{P}}$\n",
    "$\\newcommand{\\E}{\\mathbb{E}}$\n",
    "$\\newcommand{\\D}{\\mathbb{D}}$\n",
    "$\\newcommand{\\w}{\\mathbf{w}}$\n",
    "$\\newcommand{\\X}{\\mathbf{X}}$\n",
    "$\\newcommand{\\y}{\\mathbf{y}}$\n",
    "$\\newcommand{\\x}{\\mathbf{x}}$\n",
    "$\\newcommand{\\J}{\\mathbf{J}}$\n",
    "$\\newcommand{\\I}{\\mathbf{I}}$\n",
    "$\\newcommand{\\X}{\\mathbf{X}}$\n",
    "$\\newcommand{\\S}{\\mathbf{S}}$\n",
    "$\\newcommand{\\e}{\\mathbf{e}}$\n",
    "$\\newcommand{\\C}{\\mathbf{C}}$\n",
    "$\\newcommand{\\K}{\\mathbf{K}}$\n",
    "$\\newcommand{\\R}{\\mathbb{R}}$\n",
    "$\\newcommand{\\v}{\\mathbf{v}}$\n",
    "$\\newcommand{\\phivec}{\\boldsymbol{\\phi}}$\n",
    "$\\newcommand{\\sign}{\\mathrm{sign}}$\n",
    "$\\newcommand{\\F}{\\mathcal{F}}$\n",
    "\n",
    "$\\newcommand{\\tg}{\\mathrm{tg}}$\n",
    "$\\newcommand{\\ctg}{\\mathrm{ctg}}$\n",
    "$\\newcommand{\\arctg}{\\mathrm{arctg}}$\n",
    "$\\newcommand{\\cov}{\\mathrm{cov}}$\n",
    "$\\newcommand{\\argmax}{\\mathrm{argmax}}$\n",
    "$\\newcommand{\\argmin}{\\mathrm{argmin}}$\n",
    "\n",
    "$\\newcommand{\\condit}{\\thinspace\\rvert\\thinspace}$\n",
    "\n",
    "$\\newcommand{\\x}{\\mathbf{x}}$\n",
    "$\\newcommand{\\y}{\\mathbf{y}}$\n",
    "$\\newcommand{\\b}{\\mathbf{b}}$\n",
    "$\\newcommand{\\a}{\\mathbf{a}}$"
   ]
  },
  {
   "cell_type": "code",
   "execution_count": 470,
   "metadata": {
    "collapsed": true
   },
   "outputs": [],
   "source": [
    "import numpy as np\n",
    "import pandas as pd\n",
    "import matplotlib.pyplot as plt"
   ]
  },
  {
   "cell_type": "code",
   "execution_count": 471,
   "metadata": {
    "collapsed": true
   },
   "outputs": [],
   "source": [
    "from ggplot import *"
   ]
  },
  {
   "cell_type": "code",
   "execution_count": 472,
   "metadata": {
    "collapsed": true
   },
   "outputs": [],
   "source": [
    "from matplotlib import colors as clrs\n",
    "from matplotlib.colors import ListedColormap"
   ]
  },
  {
   "cell_type": "code",
   "execution_count": 473,
   "metadata": {
    "collapsed": true
   },
   "outputs": [],
   "source": [
    "from sklearn.datasets import make_moons\n",
    "from sklearn.datasets import make_blobs\n",
    "from sklearn.preprocessing import scale\n",
    "from sklearn.model_selection import train_test_split\n",
    "from sklearn.metrics import accuracy_score"
   ]
  },
  {
   "cell_type": "code",
   "execution_count": 474,
   "metadata": {
    "collapsed": true
   },
   "outputs": [],
   "source": [
    "from scipy.stats import uniform\n",
    "from scipy.stats import norm\n",
    "from scipy.stats import bernoulli\n",
    "from scipy.stats import multivariate_normal\n",
    "from scipy.stats import laplace\n",
    "from scipy.stats import rv_discrete"
   ]
  },
  {
   "cell_type": "code",
   "execution_count": 475,
   "metadata": {
    "collapsed": true
   },
   "outputs": [],
   "source": [
    "from timeit import default_timer as timer"
   ]
  },
  {
   "cell_type": "code",
   "execution_count": 476,
   "metadata": {
    "collapsed": true
   },
   "outputs": [],
   "source": [
    "from sympy.utilities.iterables import multiset_permutations"
   ]
  },
  {
   "cell_type": "code",
   "execution_count": 477,
   "metadata": {
    "collapsed": true
   },
   "outputs": [],
   "source": [
    "from copy import copy"
   ]
  },
  {
   "cell_type": "code",
   "execution_count": 478,
   "metadata": {
    "collapsed": true
   },
   "outputs": [],
   "source": [
    "import sys\n",
    "\n",
    "# Print iterations progress\n",
    "def printProgress(iteration, total, prefix = '', suffix = '', decimals = 1, barLength = 100):\n",
    "    \"\"\"\\n    Call in a loop to create terminal progress bar\\n    @params:\\n        iteration   - Required  : current iteration (Int)\\n        total       - Required  : total iterations (Int)\\n        prefix      - Optional  : prefix string (Str)\\n        suffix      - Optional  : suffix string (Str)\\n        decimals    - Optional  : positive number of decimals in percent complete (Int)\\n        barLength   - Optional  : character length of bar (Int)\\n    \"\"\"\n",
    "    formatStr       = \"{0:.\" + str(decimals) + \"f}\"\n",
    "    percents        = formatStr.format(100 * (iteration / float(total)))\n",
    "    filledLength    = int(round(barLength * iteration / float(total)))\n",
    "    bar             = '█' * filledLength + '-' * (barLength - filledLength)\n",
    "    sys.stdout.write('\\r%s |%s| %s%s %s' % (prefix, bar, percents, '%', suffix)),\n",
    "    if iteration == total:\n",
    "        sys.stdout.write('\\n')\n",
    "    sys.stdout.flush()"
   ]
  },
  {
   "cell_type": "markdown",
   "metadata": {},
   "source": [
    "### Markov model\n",
    "\n",
    "Markov model is defined by:\n",
    "* Initial probability distribution for states $\\pi$\n",
    "* Transition probabilities $A(\\x,\\x^{\\prime})=\\{\\a_{ij}\\}$, where $\\a_{ij}=\\pr(\\x^{\\prime}=S_i\\condit \\x = S_j)$\n",
    "\n",
    "**Markov property:**\n",
    "* Dependence only on the last event (not all the history):\n",
    "$$\\displaystyle{\\pr(\\x_t=S_{j_t}\\condit \\x_{t-1}=S_{j_{t-1}},\\dots,\\x_1=S_{j_1})=\\pr(\\x_t=S_{j_t}\\condit \\x_{t-1}=S_{j_{t-1}})}$$"
   ]
  },
  {
   "cell_type": "markdown",
   "metadata": {},
   "source": [
    "### Hidden Markov Model\n",
    "\n",
    "**Hidden markov Model specification**\n",
    "* $\\x_t$ - hidden state\n",
    "* $\\y_{1:t}=(y_1,\\ldots,y_t)$ - observations in moments $1,\\ldots,t$\n",
    "* $\\pi(\\x_1)$ - initial state probabilities array\n",
    "* $\\b_k(y_t) = \\pr(y_t=O\\condit \\x_t=k)$ - emission probability\n",
    "* $\\a_{ij}=\\pr(\\x_t=S_j\\condit \\x_{t-1}=S_i)$ - transition probability\n",
    "* $\\pr(\\x_t,\\y_{1:t})$ - joint probability"
   ]
  },
  {
   "cell_type": "markdown",
   "metadata": {},
   "source": [
    "**Model definition:** \n",
    "* Model $\\displaystyle{\\mathcal{M}\\left(\\pi, A, B \\right)}$\n",
    "* Alphabet of states: $S_1,\\ldots,S_N$\n",
    "* Alphabet of observations: $O_1,\\ldots,O_M$\n",
    "* Initial state probabilities: $\\pi=(\\pi_1,\\ldots,\\pi_N)$\n",
    "* Transition matrix: $A=\\left(a_{ij}\\right)_{i,j=1}^N\\in\\R^{N\\times N}$\n",
    "* Emission matrix: $B=\\left(b_i(O_j)\\right)_{i=1,j=1}^{N, M}\\in\\R^{N\\times M}$"
   ]
  },
  {
   "cell_type": "markdown",
   "metadata": {},
   "source": [
    "**Model assumptions**\n",
    "* **Markov property:** $\\displaystyle{\\pr(\\x_t\\condit \\x_{1:t-1})=\\pr(\\x_t\\condit \\x_{t-1})}$\n",
    "* **Independence assumption:** $\\displaystyle{\\pr(\\y_t\\condit \\y_{1:t-1},\\x_{1:t})=\\pr(\\y_t\\condit \\x_t)}$"
   ]
  },
  {
   "cell_type": "markdown",
   "metadata": {},
   "source": [
    "**Three problems of HMM**\n",
    "* Find the probability of observed data conditioned on the model $\\mathcal{M}$\n",
    "* Given the data (observations) and the model $\\mathcal{M}$, find the most probable sequence od states\n",
    "* Given the data (observations) estimate the model $\\mathcal{M}$ parameters"
   ]
  },
  {
   "cell_type": "markdown",
   "metadata": {},
   "source": [
    "**The First Problem: find the probability of observed data conditioned on the model $\\mathcal{M}$**"
   ]
  },
  {
   "cell_type": "markdown",
   "metadata": {},
   "source": [
    "**Special probabilities** for the first problem\n",
    "\n",
    "* **Forward probabilities:** $\\displaystyle{\\alpha_t(\\x_t=i)=\\alpha_t(i)=\\pr(\\x_t=i, \\y_{1:t})}$ - the probability of arriving to state $i$ at the time $t$ emitting the observations up to time $t$.\n",
    "* **Backward probabilities:** $\\displaystyle{\\beta_t(\\x_t=i)=\\pr(\\y_{t+1:T} \\condit \\x_t=i)}$ - the probability of emitting the remaining sequence from $t+1$ until $T$ after being at the hidden state $\\x_t=i$ at time $t$."
   ]
  },
  {
   "cell_type": "markdown",
   "metadata": {},
   "source": [
    "**Probability chain rule:**\n",
    "$$\\displaystyle{\\pr\\left(A_n,\\ldots,A_1\\right)=\\pr\\left(A_n\\condit A_{n-1},\\ldots,A_1\\right)\\cdot\\pr\\left(A_{n-1},\\ldots,A_1\\right)}$$"
   ]
  },
  {
   "cell_type": "markdown",
   "metadata": {},
   "source": [
    "**FORWARD ALGORITHM**\n",
    "\n",
    "Goal: solve decoding problem. Algorithm computes the joint probability $\\pr(\\x_t,\\y_{1:t})$\n",
    "* Start with definition $$\\displaystyle{\\alpha_t(\\x_t)=\\pr(\\x_t,\\y_{1:t})=\\sum_{\\x_{t-1}}\\pr(\\x_t,\\x_{t-1},\\y_{1:t-1})}$$\n",
    "* Apply chain rule to the summands: $$\\displaystyle{\\alpha_t(\\x_t)=\\sum_{\\x_{t-1}}\\pr(\\y_t\\condit \\x_t, \\x_{t-1}, \\y_{1:1-t-1})\\pr(\\x_t\\condit \\x_{t-1},\\y_{1:t-1})\\pr(\\x_{t-1},\\y_{1:t-1})}$$\n",
    "* Due to conditional independence the last expression simplifies to: $$\\displaystyle{\\alpha_t(\\x_t)=\\underbrace\n",
    "{\\pr(\\y_t\\condit \\x_t)}_{\\b_{\\x_t}(\\y_t)}\\sum_{\\x_{t-1}}\\underbrace{\\pr(\\x_t\\condit \\x_{t-1})}_{\\a(\\x_{t-1},\\x_t)}\\alpha_{t-1}(\\x_{t-1})}$$\n",
    "* **ALGORITHM**:\n",
    "    * **Initialization:** $\\displaystyle{\\alpha_1(i)=\\pi_i\\b_i(\\y_1)}$, $1\\leq i \\leq N$\n",
    "    * **Induction:** for $t=2,\\ldots,T$\n",
    "    $$\\displaystyle{\\alpha_t(j)=\\b_j(\\y_t)\\sum_{i=1}^N\\alpha_{t-1}(i)\\a_{ij}}, \\quad 1\\leq j \\leq N$$\n",
    "    * **Termination:** return $\\pr(\\y_{1:t})=\\sum_{i=1}^N\\alpha_T(i)$"
   ]
  },
  {
   "cell_type": "markdown",
   "metadata": {},
   "source": [
    "**Implementation of Forward algorithm**\n",
    "```python\n",
    "def _forward(self, y):\n",
    "        # number of observations\n",
    "        T = len(y)\n",
    "        # trellis for forward probabilities\n",
    "        alpha = np.zeros(self.N*T).reshape(self.N, T)\n",
    "        # scaling term\n",
    "        self.c = np.zeros(T)\n",
    "        # initialization\n",
    "        pi = self._init_state_dist().pk\n",
    "        e = [self._emission_dist(i).pmf(int(y[0])) for i in np.arange(self.N)]\n",
    "        self.e = e\n",
    "        alpha[:,0] = pi*e\n",
    "        self.c[0] = 1./np.sum(alpha[:, 0])\n",
    "        alpha[:, 0] = alpha[:, 0]*self.c[0]\n",
    "        for t in range(1, T):\n",
    "            for j in range(self.N):\n",
    "                a = np.array([self._transition_dist(i).pmf(j) for i in np.arange(self.N)]).T\n",
    "                alpha[j,t] = np.dot(alpha[:, t-1], a)*self._emission_dist(j).pmf(int(y[t]))\n",
    "            self.c[t] = 1./np.sum(alpha[:, t])\n",
    "            alpha[:, t] = alpha[:, t]*self.c[t]\n",
    "        self.alpha = alpha\n",
    "        alpha = np.divide(alpha, np.cumprod(self.c))\n",
    "        return np.sum(alpha[:, T-1])\n",
    "```"
   ]
  },
  {
   "cell_type": "markdown",
   "metadata": {},
   "source": [
    "**Scaling problem**\n",
    "\n",
    "The *scaling term* in the code above addresses the underflow problem while performing computation over small values. Multiplying a big amount of probabilities can cause the problem, that estimated values go to zero very fast.\n",
    "\n",
    "The common approach is:\n",
    "* **Initialization:**\n",
    "    * $\\alpha^{\\prime}_1(i)=\\alpha_1(i)$;\n",
    "    * $c_1=\\left(\\sum_{i=1}^N\\alpha^{\\prime}_1(i)\\right)^{-1}$\n",
    "    * $\\hat{\\alpha}_1(i)=c_1\\alpha^{\\prime}_1(i)$\n",
    "* **Induction:**\n",
    "    * $\\displaystyle{\\alpha^{\\prime}_t(j)=\\b_j(\\y_t)\\sum_{i=1}^N\\hat{\\alpha}_{t-1}(i)\\a_{ij}}$, $1\\leq j \\leq N$\n",
    "    * $c_t=\\left(\\sum_{i=1}^N\\alpha^{\\prime}_t(i)\\right)^{-1}$\n",
    "    * $\\hat{\\alpha}_t(i)=c_t\\alpha^{\\prime}_t(i)$\n",
    "* **Termination:**\n",
    "    * $\\displaystyle{\\hat{\\alpha}_t(i)=\\alpha_t(i)\\prod_{\\tau=1}^tc_{\\tau}=\\alpha_t(i)\\mathbf{C}_t}$"
   ]
  },
  {
   "cell_type": "markdown",
   "metadata": {},
   "source": [
    "**BACKWARD ALGORITHM**\n",
    "\n",
    "* Start with the definition $$\\displaystyle{\\beta_t(\\x_t=i)=\\pr(\\y_{t+1:T}\\condit \\x_t=i)=\\sum_{j}\\pr(\\x_{t+1}=j,\\y_{t+1:T}\\condit \\x_t=i)}$$\n",
    "* Apply chain rule: $$\\displaystyle{\\pr(\\x_{t+1}=j,\\y_{t+1:T}\\condit \\x_t=i)=\\pr(\\y_{t+2:T},\\y_{t+1},\\x_{t+1}=j\\condit \\x_t=i)=\\\\=\\pr(\\y_{t+2:T}\\condit \\y_{t+1},\\x_{t+1}=j, \\x_t=i)\\pr(\\y_{t+1} \\condit \\x_{t+1}=j,\\x_t=i)\\pr(\\x_{t+1}=j\\condit \\x_t=i)}$$\n",
    "* Due to conditional independence the above expression simplifies to: $$\\displaystyle{\\pr(\\y_{t+2:T}\\condit \\x_{t+1}=j)\\pr(\\y_{t+1}\\condit \\x_{t+1}=j)\\pr(\\x_{t+1}=j\\condit \\x_t=i)}$$\n",
    "* From the definition of backward probabilities follows, that: $$\\displaystyle{\\pr(\\y_{t+2:T}\\condit \\x_{t+1}=j)=\\beta_{t+1}(\\x_{t+1}=j)}$$\n",
    "* we obtain recursion for backward probabilities: $$\\displaystyle{\\beta_t(\\x_t=i)=\\sum_{j}\\beta_{t+1}(\\x_{t+1}=j)\\pr(\\y_{t+1}\\condit \\x_{t+1}=j)\\pr(\\x_{t+1}=j\\condit \\x_t=i)}$$\n",
    "* recursion in terms of transition and emission probabilities: $$\\displaystyle{\\beta_t(\\x_t=i)=\\sum_{j}\\beta_{t+1}(\\x_{t+1}=j)\\b_j(\\y_{t+1})\\a_{ij}}$$\n",
    "* **ALGORITHM**\n",
    "    * **Initialization:** $\\displaystyle{\\beta_T(i)=1}$, $1\\leq i \\leq N$\n",
    "    * **Induction:** for $t=T-1,\\ldots,1$\n",
    "        * $\\displaystyle{\\beta_t(i)=\\sum_{j=1}^N\\a_{ij}\\b_j(\\y_{t+1})\\beta_{t+1}(j)}$\n",
    "    * **Termination:** $\\displaystyle{\\pr(\\y_{1:T})=\\sum_{i=1}^N\\pi_i\\b_i(\\y_1)\\beta_1(i)}$"
   ]
  },
  {
   "cell_type": "markdown",
   "metadata": {},
   "source": [
    "**Implementation of backward algorithm**\n",
    "```python\n",
    "def _backward(self, y):\n",
    "        # number of observations\n",
    "        T = len(y)\n",
    "        # trellis for forward probabilities\n",
    "        beta = np.zeros(self.N*T).reshape(self.N, T)\n",
    "        # initialization\n",
    "        beta[:, T-1] = np.ones(self.N)\n",
    "        beta[:, T-1] = beta[:, T-1]*self.c[T-1]\n",
    "        for t in range(T-2, -1, -1):\n",
    "            for i in range(self.N):\n",
    "                a = np.array([self._transition_dist(i).pmf(j)*self._emission_dist(j).pmf(int(y[t+1])) for j in np.arange(self.N)]).T\n",
    "                beta[i, t] = np.dot(beta[:, t+1], a)\n",
    "            beta[:,t] = beta[:,t]*self.c[t]\n",
    "        self.beta = beta\n",
    "        \n",
    "        beta = np.divide(beta, np.cumprod(self.c[::-1])[::-1])\n",
    "        pi = self._init_state_dist().pk\n",
    "        b = np.array([self._emission_dist(i).pmf(int(y[0])) for i in np.arange(self.N)])\n",
    "        return np.sum(pi*b*beta[:, 0])\n",
    "```"
   ]
  },
  {
   "cell_type": "markdown",
   "metadata": {},
   "source": [
    "**Scaling problem**\n",
    "\n",
    "* **Initialization:** \n",
    "    * $\\beta^{\\prime}_T(i)=1$\n",
    "    * $\\hat{\\beta}_T(i)=c_T\\beta^{\\prime}_T(i)$\n",
    "* **Induction:**\n",
    "    * $\\displaystyle{\\beta^{\\prime}_t(i)=\\sum_{j=1}^N\\a_{ij}\\b_j(\\y_{t+1})\\hat{\\beta}_{t+1}(j)}$\n",
    "    * $\\hat{\\beta}_t(i)=c_t\\beta^{\\prime}_t(i)$\n",
    "* **Termination:**\n",
    "    * $\\displaystyle{\\hat{\\beta}_t(i)=\\beta_t(i)\\prod_{\\tau=t}^Tc_{\\tau}=\\beta_t(i)\\mathbf{D}_t}$\n",
    "    \n",
    "**Note, that**\n",
    "* $\\displaystyle{\\mathbf{C}_t\\cdot\\mathbf{D}_{t+1}=\\mathbf{C}_T}$"
   ]
  },
  {
   "cell_type": "markdown",
   "metadata": {},
   "source": [
    "**The Second Problem: given the data (observations) and the model $\\mathcal{M}$, find the most probable sequence od states**"
   ]
  },
  {
   "cell_type": "markdown",
   "metadata": {},
   "source": [
    "**Special probabilities** for the second problem\n",
    "* Auxiliary variables: \n",
    "    * maximum probability to reach $S_i$ on the step $t$ over all paths with given observations: $$\\displaystyle{\\delta_t(i)=\\underset{\\x_1,\\ldots,\\x_{t-1}}{\\max}\\pr\\left(\\x_t=i,\\y_{1:t}\\condit \\mathcal{M}\\right)}$$\n",
    "    * array of arguments of $\\delta_t(i)$: $\\psi_t(i)$"
   ]
  },
  {
   "cell_type": "markdown",
   "metadata": {},
   "source": [
    "**Viterbi algorithm**\n",
    "\n",
    "* **Initialization:** $\\delta_1(i)=\\pi_i\\b_i(\\y_1)$, $\\psi_1(i)=0$, $1\\leq i \\leq N$\n",
    "* **Induction:** for $t=2,\\ldots,T$\n",
    "    * $\\displaystyle{\\delta_t(j)=\\underset{i}{\\max}\\left(\\delta_{t-1}(i)\\a_{ij}\\right)\\b_j(\\y_t)}$\n",
    "    * $\\displaystyle{\\psi_t(j)=\\underset{i}{\\argmax}\\left(\\delta_{t-1}(i)\\a_{ij}\\right)}$, $1\\leq j \\leq N$\n",
    "* **Termination:**\n",
    "    * $\\displaystyle{\\Delta^*=\\underset{i}{\\max}\\delta_T(i)}$\n",
    "    * $\\displaystyle{\\x^*_t=\\underset{i}{\\argmax}\\delta_T(i)}$\n",
    "* **Traceback:** for $t=T-1,\\ldots,1$\n",
    "    * $\\x^*_t=\\psi(\\x^*_{t+1})$\n",
    "    * $\\x^*_{1:T}=\\left(\\x_1^*,\\ldots,\\x_T^*\\right)$"
   ]
  },
  {
   "cell_type": "markdown",
   "metadata": {},
   "source": [
    "**Implementation of the Viterbi algorithm**\n",
    "```python\n",
    "def viterbi(self, y):\n",
    "        # number of observations\n",
    "        T = len(y)\n",
    "        x = np.zeros(T)\n",
    "        # trellis for Viterbi algorithm\n",
    "        delta = np.zeros(self.N*T).reshape(self.N, T)\n",
    "        psi = np.zeros(self.N*T).reshape(self.N, T)\n",
    "        # initialization\n",
    "        pi = np.log(self._init_state_dist().pk)\n",
    "        b = np.log(np.array([self._emission_dist(i).pmf(int(y[0])) for i in np.arange(self.N)]))\n",
    "        delta[:,0] = - pi - b\n",
    "        for t in range(1, T):\n",
    "            for j in range(self.N):\n",
    "                a = np.log(np.array([self._transition_dist(i).pmf(j) for i in np.arange(self.N)])).T\n",
    "                delta[j, t] = np.min(delta[:, t-1] - a) - np.log(self._emission_dist(j).pmf(int(y[t])))\n",
    "                psi[j, t] = np.argmin(delta[:, t-1] - a)\n",
    "        # finally\n",
    "        D = np.min(delta[:, T-1])\n",
    "        x[T-1] = np.argmin(delta[:, T-1])\n",
    "        # trace back\n",
    "        for t in range(T-2, -1, -1):\n",
    "            x[t] = psi[int(x[t+1]), t+1]\n",
    "        \n",
    "        self.state_trace = x\n",
    "        \n",
    "        self.delta = delta\n",
    "        self.psi = psi\n",
    "        \n",
    "        return x\n",
    "```"
   ]
  },
  {
   "cell_type": "markdown",
   "metadata": {},
   "source": [
    "**Scaling problem**\n",
    "\n",
    "**Viterbi algorithm in log scale**\n",
    "\n",
    "* **Initialization:** $\\delta_1(i)=-\\log \\pi_i-\\log\\b_i(\\y_1)$, $\\psi_1(i)=0$, $1\\leq i \\leq N$\n",
    "* **Induction:** for $t=2,\\ldots,T$\n",
    "    * $\\displaystyle{\\delta_t(j)=\\underset{i}{\\min}\\left(\\delta_{t-1}(i)-\\log\\a_{ij}\\right)-\\log\\b_j(\\y_t)}$\n",
    "    * $\\displaystyle{\\psi_t(j)=\\underset{i}{\\argmin}\\left(\\delta_{t-1}(i)-\\log\\a_{ij}\\right)}$, $1\\leq j \\leq N$\n",
    "* **Termination:**\n",
    "    * $\\displaystyle{\\Delta^*=\\underset{i}{\\min}\\delta_T(i)}$\n",
    "    * $\\displaystyle{\\x^*_t=\\underset{i}{\\argmin}\\delta_T(i)}$\n",
    "* **Traceback:** for $t=T-1,\\ldots,1$\n",
    "    * $\\x^*_t=\\psi(\\x^*_{t+1})$\n",
    "    * $\\x^*_{1:T}=\\left(\\x_1^*,\\ldots,\\x_T^*\\right)$"
   ]
  },
  {
   "cell_type": "markdown",
   "metadata": {},
   "source": [
    "**The Third Problem: given the data (observations) estimate the model $\\mathcal{M}$ parameters**"
   ]
  },
  {
   "cell_type": "markdown",
   "metadata": {},
   "source": [
    "**Auxiliary variables**\n",
    "* $\\displaystyle{\\gamma_t(i)=\\pr(\\x_t=i\\condit \\y_{1:T}, \\mathcal{M})}$ the conditional probability to visit state $S_i$ on the $t$-th step given observations $\\y_{1:T}$ and model $\\mathcal{M}$\n",
    "    * In terms of $\\alpha_t(i)$ and $\\beta_t(i)$ we can get the next expression (from the Bayes rule): $\\displaystyle{\\gamma_t(i)=\\frac{\\pr(\\x_t=i, \\y_{1:T}\\condit \\mathcal{M})}{\\pr\\left(\\y_{1:T\\condit \\mathcal{M}}\\right)}=\\frac{\\alpha_t(i)\\beta_t(i)}{\\pr\\left(\\y_{1:T\\condit \\mathcal{M}}\\right)}=\\frac{\\alpha_t(i)\\beta_t(i)}{\\sum_{j=1}^N\\alpha_t(j)\\beta_t(j)}}$\n",
    "* The probability to be in the state $S_i$ at time $t$ and in the state $S_j$ at time $t+1$ given observations: $$\\displaystyle{\\xi_t(i,j)=\\pr\\left(\\x_{t-1}=i,\\x_t=j\\condit \\y_{1:T}\\right)}$$\n",
    "    * From the Bayes law: $$\\displaystyle{\\xi_t(i,j)=\\frac{\\pr\\left(\\x_{t-1}=i,\\x_t=j, \\y_{1:T}\\condit\\mathcal{M}\\right)}{\\pr\\left(\\y_{1:T}\\condit \\mathcal{M}\\right)}=\\frac{\\pr\\left(\\x_{t-1}=i,\\y_{1:t-1}\\condit \\mathcal{M}\\right)\\pr\\left(\\x_t=j,\\y_{t:T}\\condit \\x_{t-1}=i,\\mathcal{M}\\right)}{\\pr\\left(\\y_{1:T}\\condit \\mathcal{M}\\right)}=\\frac{\\alpha_{t-1}(i)\\pr\\left(\\x_t=j,\\y_t\\condit \\x_{t-1},\\mathcal{M}\\right)\\pr\\left(\\y_{t+1:T}\\condit \\x_t=j,\\mathcal{M}\\right)}{\\pr\\left(\\y_{1:T}\\condit \\mathcal{M}\\right)}=\\frac{\\alpha_{t-1}(i)\\a_{ij}\\b_j(\\y_t)\\beta_t(j)}{\\pr\\left(\\y_{1:T}\\condit \\mathcal{M}\\right)}}$$\n",
    "* Connection between $\\gamma_t(i)$ and $\\xi_t(i,j)$: $$\\displaystyle{\\gamma_t(i)=\\sum_{j=1}^N\\xi_t(i,j)}$$"
   ]
  },
  {
   "cell_type": "markdown",
   "metadata": {},
   "source": [
    "**Baum-Welch algorithm**\n",
    "\n",
    "* **Initial-state probabilities** - estimate via expected frequency of state $S_i$ on the step 1:\n",
    "    * $\\displaystyle{\\hat{\\pi}_i=\\gamma_1(i)}$, for $1\\leq i \\leq N$;\n",
    "* **State-transition probabilities** - estimate via expected number of transitions from $S_i$ to $S_j$ divided by the expected number of transitions from the state $S_i$:\n",
    "    * $\\displaystyle{\\hat{\\a}_{ij}=\\frac{\\sum_{t=2}^T\\xi_t(i,j)}{\\sum_{t=2}^T\\gamma_t(i)}}$, for $1\\leq i,j\\leq N$;\n",
    "* **Output probabilities** - estimate via expected number of visits to $S_j$ and observations $O_k$ divided by the expected number of visits to $S_j$:\n",
    "    * $\\displaystyle{\\hat{\\b}_j(k)=\\frac{\\sum_{t=1}^T\\rvert_{\\y_t=k}\\gamma_t(j)}{\\sum_{t=1}^T\\gamma_t(j)}}$, for $1\\leq j\\leq N$, $1\\leq k \\leq M$\n",
    "    \n",
    "On each step we get $\\displaystyle{\\pr\\left(\\y_{1:T}\\condit\\mathcal{\\hat{M}}\\right)\\geq \\pr\\left(\\y_{1:T}\\condit\\mathcal{M}\\right)}$, but this doesn't guarantee a **global** maximum."
   ]
  },
  {
   "cell_type": "markdown",
   "metadata": {},
   "source": [
    "**Implementation of the Baum-Welch algorithm**\n",
    "```python\n",
    "def baum_welch(self, y, max_iter=25):\n",
    "        converged = False\n",
    "        T = len(y)\n",
    "        # initialize model\n",
    "        self.A = np.random.uniform(size=self.N*self.N).reshape(self.N, self.N)\n",
    "        self.A = (self.A.T/np.sum(self.A, axis=1)).T\n",
    "        \n",
    "        self.E = np.random.uniform(size=self.N*self.M).reshape(self.N, self.M)\n",
    "        self.E = (self.E.T/np.sum(self.E, axis=1)).T\n",
    "        self.a0 = np.random.uniform(size=self.N)\n",
    "        self.a0 = self.a0/np.sum(self.a0)\n",
    "        self.cost = []\n",
    "        self.delta = []\n",
    "        # initialization\n",
    "        emission_nominator = np.zeros((self.N, self.M))\n",
    "        xi = np.zeros((self.N, self.N))\n",
    "        \n",
    "        progress = 0\n",
    "        printProgress(progress, max_iter, prefix = 'Progress:', suffix = 'Complete', barLength = 50)\n",
    "        for step in range(max_iter):\n",
    "            evidence, _ = self._forward(y), self._backward(y)\n",
    "            gamma = np.multiply(self.alpha, self.beta)\n",
    "            gamma = np.divide(gamma, self.c)\n",
    "            self.gamma = gamma\n",
    "            for j in range(self.N):\n",
    "                for k in range(self.M):\n",
    "                    emission_nominator[j, k] = np.sum([gamma[j, t]*(y[t] == k) for t in range(T)])\n",
    "            \n",
    "            \n",
    "            for i in range(self.N):\n",
    "                for j in range(self.N):\n",
    "                    xi[i, j] = np.sum([self.alpha[i, t - 1]\\\n",
    "                                       *self.beta[j, t]\\\n",
    "                                       *self._transition_dist(i).pmf(j)\\\n",
    "                                       *self._emission_dist(j).pmf(int(y[t]))\n",
    "                                       for t in range(1, T)])                \n",
    "            \n",
    "            E = (emission_nominator.T/np.sum(gamma, axis=1)).T\n",
    "            A = (xi/np.sum(gamma[:,1:], axis=1)).T\n",
    "            a0 = gamma[:, 0]\n",
    "            \n",
    "            self.cost.append(evidence)\n",
    "            self.delta.append(np.max(np.hstack((np.max(abs(self.a0 - a0)), np.max(abs(A - self.A)), np.max(abs(E - self.E))))))\n",
    "            \n",
    "            if np.max(abs(self.a0 - a0)) < self.eps and \\\n",
    "                   np.max(abs(A - self.A)) < self.eps and \\\n",
    "                   np.max(abs(E - self.E)) < self.eps:\n",
    "                converged = True\n",
    "            \n",
    "            self.a0 = a0\n",
    "            self.A = A\n",
    "            self.E = E\n",
    "            \n",
    "            if converged:\n",
    "                progress = max_iter\n",
    "                conv_step = step\n",
    "                step = max_iter + 1\n",
    "            else:\n",
    "                progress+=1\n",
    "            printProgress(progress, max_iter, prefix = 'Progress:', suffix = 'Complete', barLength = 50)\n",
    "            if converged:\n",
    "                print('Converged on step: ', conv_step)\n",
    "                break\n",
    "        self.cost = np.array(self.cost)\n",
    "        self.delta = np.array(self.delta)\n",
    "        \n",
    "        return self.viterbi(y)\n",
    "```"
   ]
  },
  {
   "cell_type": "markdown",
   "metadata": {},
   "source": [
    "**Scaling problem**\n",
    "\n",
    "* **State-transition probabilities:**\n",
    "    * $\\displaystyle{\\hat{\\a}_{ij}=\\frac{\\sum_{t=2}^T\\xi_t(i,j)}{\\sum_{t=2}^T\\gamma_t(i)}=\\frac{\\sum_{t=2}^T\\hat{\\alpha}_{t-1}(i)\\a_{ij}\\b_j(\\y_{t})\\hat{\\beta}_{t}(j)}{\\sum_{t=2}^T\\hat{\\alpha}_t(i)\\hat{\\beta}_t(i)/c_t}}$;\n",
    "* **Output probabilities:** \n",
    "    * $\\displaystyle{\\hat{\\b}_j(k)=\\frac{\\sum_{t=1}^T\\rvert_{\\y_t=k}\\gamma_t(j)}{\\sum_{t=1}^T\\gamma_t(j)}=\\frac{\\sum_{t=1}^T\\rvert_{\\y_t=k}\\hat{\\alpha}_t(j)\\hat{\\beta}_t(j)/c_t}{\\sum_{t=1}^T\\hat{\\alpha}_t(j)\\hat{\\beta}_t(j)/c_t}}$"
   ]
  },
  {
   "cell_type": "code",
   "execution_count": 495,
   "metadata": {
    "collapsed": true
   },
   "outputs": [],
   "source": [
    "class HiddenMarkovModel(object):\n",
    "    \"\"\"\n",
    "    Hidden Markov Model class \n",
    "    \n",
    "    Parameters:\n",
    "    -----------\n",
    "    \n",
    "    - S: Number of states\n",
    "    - O: Emission alphabet capacity\n",
    "    - A: Transition matrix\n",
    "    - E: Emission matrix\n",
    "    - a0: Initial state probabilities \n",
    "    \"\"\"\n",
    "    def __init__(self, A, E, a0, eps = 0.0001):\n",
    "        # number of states\n",
    "        self.N = A.shape[0]\n",
    "        # observations capacity\n",
    "        self.M = E.shape[1]\n",
    "        self.A = A\n",
    "        self.E = E\n",
    "        self.a0 = a0\n",
    "        self.eps = eps\n",
    "        \n",
    "    def _init_state_dist(self):\n",
    "        return rv_discrete(name='init_state_dist', values=(np.arange(self.N), self.a0))\n",
    "        \n",
    "    def _transition_dist(self, state):\n",
    "        return  rv_discrete(name='transition_dist', values=(np.arange(self.N), self.A[state, :]))\n",
    "    \n",
    "    def _emission_dist(self, state):\n",
    "        return  rv_discrete(name='emission_dist', values=(np.arange(self.M), self.E[state, :]))\n",
    "                \n",
    "    def sample(self, n):\n",
    "        # initialize states and observations history\n",
    "        X = np.zeros(n)\n",
    "        y = np.zeros(n)\n",
    "        # initial state\n",
    "        X[0] = self._init_state_dist().rvs()\n",
    "        y[0] = self._emission_dist(int(X[0])).rvs()\n",
    "        for i in range(1, n):\n",
    "            X[i] = self._transition_dist(int(X[i-1])).rvs()\n",
    "            y[i] = self._emission_dist(int(X[i])).rvs()\n",
    "        \n",
    "        return X, y\n",
    "    \n",
    "    def _forward(self, y):\n",
    "        # number of observations\n",
    "        T = len(y)\n",
    "        # trellis for forward probabilities\n",
    "        alpha = np.zeros(self.N*T).reshape(self.N, T)\n",
    "        # scaling term\n",
    "        self.c = np.zeros(T)\n",
    "        # initialization\n",
    "        pi = self._init_state_dist().pk\n",
    "        e = [self._emission_dist(i).pmf(int(y[0])) for i in np.arange(self.N)]\n",
    "        alpha[:,0] = pi*e\n",
    "        self.c[0] = 1./np.sum(alpha[:, 0])\n",
    "        alpha[:, 0] = alpha[:, 0]*self.c[0]\n",
    "        for t in range(1, T):\n",
    "            for j in range(self.N):\n",
    "                a = np.array([self._transition_dist(i).pmf(j) for i in np.arange(self.N)]).T\n",
    "                alpha[j,t] = np.dot(alpha[:, t-1], a)*self._emission_dist(j).pmf(int(y[t]))\n",
    "            self.c[t] = 1./np.sum(alpha[:, t])\n",
    "            alpha[:, t] = alpha[:, t]*self.c[t]\n",
    "        self.alpha = alpha\n",
    "        alpha = np.divide(alpha, np.cumprod(self.c))\n",
    "        return np.sum(alpha[:, T-1])\n",
    "    \n",
    "    def _backward(self, y):\n",
    "        # number of observations\n",
    "        T = len(y)\n",
    "        # trellis for forward probabilities\n",
    "        beta = np.zeros(self.N*T).reshape(self.N, T)\n",
    "        # initialization\n",
    "        beta[:, T-1] = np.ones(self.N)\n",
    "        beta[:, T-1] = beta[:, T-1]*self.c[T-1]\n",
    "        for t in range(T-2, -1, -1):\n",
    "            for i in range(self.N):\n",
    "                a = np.array([self._transition_dist(i).pmf(j)*self._emission_dist(j).pmf(int(y[t+1])) for j in np.arange(self.N)]).T\n",
    "                beta[i, t] = np.dot(beta[:, t+1], a)\n",
    "            beta[:,t] = beta[:,t]*self.c[t]\n",
    "        self.beta = beta\n",
    "        \n",
    "        beta = np.divide(beta, np.cumprod(self.c[::-1])[::-1])\n",
    "        pi = self._init_state_dist().pk\n",
    "        b = np.array([self._emission_dist(i).pmf(int(y[0])) for i in np.arange(self.N)])\n",
    "        return np.sum(pi*b*beta[:, 0])\n",
    "    \n",
    "    def viterbi(self, y):\n",
    "        # number of observations\n",
    "        T = len(y)\n",
    "        x = np.zeros(T)\n",
    "        # trellis for Viterbi algorithm\n",
    "        delta = np.zeros(self.N*T).reshape(self.N, T)\n",
    "        psi = np.zeros(self.N*T).reshape(self.N, T)\n",
    "        # initialization\n",
    "        pi = np.log(self._init_state_dist().pk)\n",
    "        b = np.log(np.array([self._emission_dist(i).pmf(int(y[0])) for i in np.arange(self.N)]))\n",
    "        delta[:,0] = - pi - b\n",
    "        for t in range(1, T):\n",
    "            for j in range(self.N):\n",
    "                a = np.log(np.array([self._transition_dist(i).pmf(j) for i in np.arange(self.N)])).T\n",
    "                delta[j, t] = np.min(delta[:, t-1] - a) - np.log(self._emission_dist(j).pmf(int(y[t])))\n",
    "                psi[j, t] = np.argmin(delta[:, t-1] - a)\n",
    "        # finally\n",
    "        D = np.min(delta[:, T-1])\n",
    "        x[T-1] = np.argmin(delta[:, T-1])\n",
    "        # trace back\n",
    "        for t in range(T-2, -1, -1):\n",
    "            x[t] = psi[int(x[t+1]), t+1]\n",
    "        return x\n",
    "    \n",
    "    def baum_welch(self, y, max_iter=25):\n",
    "        converged = False\n",
    "        T = len(y)\n",
    "        # initialize model\n",
    "        self.A = np.random.uniform(size=self.N*self.N).reshape(self.N, self.N)\n",
    "        self.A = (self.A.T/np.sum(self.A, axis=1)).T\n",
    "        \n",
    "        self.E = np.random.uniform(size=self.N*self.M).reshape(self.N, self.M)\n",
    "        self.E = (self.E.T/np.sum(self.E, axis=1)).T\n",
    "        self.a0 = np.random.uniform(size=self.N)\n",
    "        self.a0 = self.a0/np.sum(self.a0)\n",
    "        self.cost = []\n",
    "        self.delta = []\n",
    "        # initialization\n",
    "        emission_nominator = np.zeros((self.N, self.M))\n",
    "        xi = np.zeros((self.N, self.N))\n",
    "        \n",
    "        progress = 0\n",
    "        printProgress(progress, max_iter, prefix = 'Progress:', suffix = 'Complete', barLength = 50)\n",
    "        for step in range(max_iter):\n",
    "            evidence, _ = self._forward(y), self._backward(y)\n",
    "            gamma = np.multiply(self.alpha, self.beta)\n",
    "            gamma = np.divide(gamma, self.c)\n",
    "            self.gamma = gamma\n",
    "            for j in range(self.N):\n",
    "                for k in range(self.M):\n",
    "                    emission_nominator[j, k] = np.sum([gamma[j, t]*(y[t] == k) for t in range(T)])\n",
    "            \n",
    "            \n",
    "            for i in range(self.N):\n",
    "                for j in range(self.N):\n",
    "                    xi[i, j] = np.sum([self.alpha[i, t - 1]\\\n",
    "                                       *self.beta[j, t]\\\n",
    "                                       *self._transition_dist(i).pmf(j)\\\n",
    "                                       *self._emission_dist(j).pmf(int(y[t]))\n",
    "                                       for t in range(1, T)])                \n",
    "            \n",
    "            E = (emission_nominator.T/np.sum(gamma, axis=1)).T\n",
    "            A = (xi/np.sum(gamma[:,1:], axis=1)).T\n",
    "            a0 = gamma[:, 0]\n",
    "            \n",
    "            self.cost.append(evidence)\n",
    "            self.delta.append(np.max(np.hstack((np.max(abs(self.a0 - a0)), np.max(abs(A - self.A)), np.max(abs(E - self.E))))))\n",
    "            \n",
    "            if np.max(abs(self.a0 - a0)) < self.eps and \\\n",
    "                   np.max(abs(A - self.A)) < self.eps and \\\n",
    "                   np.max(abs(E - self.E)) < self.eps:\n",
    "                converged = True\n",
    "            \n",
    "            self.a0 = a0\n",
    "            self.A = A\n",
    "            self.E = E\n",
    "            \n",
    "            if converged:\n",
    "                progress = max_iter\n",
    "                conv_step = step\n",
    "                step = max_iter + 1\n",
    "            else:\n",
    "                progress+=1\n",
    "            printProgress(progress, max_iter, prefix = 'Progress:', suffix = 'Complete', barLength = 50)\n",
    "            if converged:\n",
    "                print('Converged on step: ', conv_step)\n",
    "                break\n",
    "        self.cost = np.array(self.cost)\n",
    "        self.delta = np.array(self.delta)\n",
    "        return self.viterbi(y)"
   ]
  },
  {
   "cell_type": "markdown",
   "metadata": {},
   "source": [
    "**Define some true parameters for the HMM.**"
   ]
  },
  {
   "cell_type": "code",
   "execution_count": 496,
   "metadata": {
    "collapsed": true
   },
   "outputs": [],
   "source": [
    "a0 = np.array([0.5, 0.5])\n",
    "\n",
    "B = np.array([[0.9, 0.1],\n",
    "              [0.1, 0.1],\n",
    "              [0.0, 0.8]])\n",
    "\n",
    "A = np.array([[0.85, 0.15],\n",
    "              [0.12, 0.88]])"
   ]
  },
  {
   "cell_type": "code",
   "execution_count": 497,
   "metadata": {
    "collapsed": true
   },
   "outputs": [],
   "source": [
    "hmm = HiddenMarkovModel(A, B.T, a0, eps=0.0001)"
   ]
  },
  {
   "cell_type": "markdown",
   "metadata": {},
   "source": [
    "**Sample from HMM**\n",
    "\n",
    "White and red colored bands define true states."
   ]
  },
  {
   "cell_type": "code",
   "execution_count": 498,
   "metadata": {
    "collapsed": true
   },
   "outputs": [],
   "source": [
    "X, y = hmm.sample(n=50)"
   ]
  },
  {
   "cell_type": "code",
   "execution_count": 499,
   "metadata": {
    "collapsed": true
   },
   "outputs": [],
   "source": [
    "centers = np.where(X==0)[0]\n",
    "lb = centers - 0.5\n",
    "rb = centers + 0.5\n",
    "spans = np.vstack((lb,rb)).T\n",
    "c1 = spans.T[0][1:]\n",
    "c2 = spans.T[1][:-1]\n",
    "z1 = np.insert(c1[c1!=c2], 0, spans.T[0][0])\n",
    "z2 = np.append(c2[c1!=c2], spans.T[1][-1])\n",
    "spans = np.vstack((z1,z2)).T"
   ]
  },
  {
   "cell_type": "code",
   "execution_count": 500,
   "metadata": {
    "collapsed": false
   },
   "outputs": [
    {
     "data": {
      "image/png": "[encoded data removed]",
      "text/plain": [
       "<matplotlib.figure.Figure at 0x12096c390>"
      ]
     },
     "metadata": {},
     "output_type": "display_data"
    }
   ],
   "source": [
    "fig, ax = plt.subplots()\n",
    "fig.set_size_inches(12, 6)\n",
    "ax.scatter(np.arange(50), y, color='blue', lw=3, alpha=0.9, linestyle='dashed')\n",
    "for span in spans:\n",
    "    ax.axvspan(span[0], span[1], alpha=0.5, color='red')\n",
    "plt.ylim(-0.1, 2.1)\n",
    "plt.ylabel('Observations')\n",
    "plt.xlabel('Timeline')\n",
    "plt.title('Observations and true state dynamics')\n",
    "plt.xlim(0,50);"
   ]
  },
  {
   "cell_type": "markdown",
   "metadata": {},
   "source": [
    "**Estimate observations probability via forward and backward algorithms.**"
   ]
  },
  {
   "cell_type": "code",
   "execution_count": 501,
   "metadata": {
    "collapsed": false
   },
   "outputs": [
    {
     "name": "stdout",
     "output_type": "stream",
     "text": [
      "Probability of observed data (Forward algorithm):  1.58785780311e-16\n"
     ]
    }
   ],
   "source": [
    "print('Probability of observed data (Forward algorithm): ',hmm._forward(y))"
   ]
  },
  {
   "cell_type": "code",
   "execution_count": 502,
   "metadata": {
    "collapsed": false
   },
   "outputs": [
    {
     "name": "stdout",
     "output_type": "stream",
     "text": [
      "Probability of observed data (Backward algorithm):  1.58785780311e-16\n"
     ]
    }
   ],
   "source": [
    "print('Probability of observed data (Backward algorithm): ' ,hmm._backward(y))"
   ]
  },
  {
   "cell_type": "markdown",
   "metadata": {},
   "source": [
    "**Use Viterbi algorithm to estimate the most probable state sequence.**"
   ]
  },
  {
   "cell_type": "code",
   "execution_count": 503,
   "metadata": {
    "collapsed": true
   },
   "outputs": [],
   "source": [
    "X_fit = hmm.viterbi(y)"
   ]
  },
  {
   "cell_type": "code",
   "execution_count": 504,
   "metadata": {
    "collapsed": false
   },
   "outputs": [
    {
     "data": {
      "text/plain": [
       "0.93999999999999995"
      ]
     },
     "execution_count": 504,
     "metadata": {},
     "output_type": "execute_result"
    }
   ],
   "source": [
    "np.mean(X==X_fit)"
   ]
  },
  {
   "cell_type": "code",
   "execution_count": 505,
   "metadata": {
    "collapsed": false
   },
   "outputs": [
    {
     "data": {
      "image/png": "[encoded data removed]",
      "text/plain": [
       "<matplotlib.figure.Figure at 0x11b570f28>"
      ]
     },
     "metadata": {},
     "output_type": "display_data"
    }
   ],
   "source": [
    "plt.plot(X, color='blue', lw=3, alpha=0.3)\n",
    "plt.plot(X_fit, color='red', linestyle='dashed')\n",
    "plt.ylim(-0.1, 1.1);"
   ]
  },
  {
   "cell_type": "markdown",
   "metadata": {},
   "source": [
    "**Given only the observations, estimate HMM parameters via Baum-Welch algorithm.**"
   ]
  },
  {
   "cell_type": "code",
   "execution_count": 506,
   "metadata": {
    "collapsed": false
   },
   "outputs": [
    {
     "name": "stdout",
     "output_type": "stream",
     "text": [
      "Progress: |██████████████████████████████████████████████████| 100.0% Complete\n",
      "Converged on step:  10\n"
     ]
    }
   ],
   "source": [
    "X_fit = hmm.baum_welch(y, max_iter=150)"
   ]
  },
  {
   "cell_type": "code",
   "execution_count": 507,
   "metadata": {
    "collapsed": false
   },
   "outputs": [
    {
     "data": {
      "image/png": "[encoded data removed]",
      "text/plain": [
       "<matplotlib.figure.Figure at 0x11b5143c8>"
      ]
     },
     "metadata": {},
     "output_type": "display_data"
    }
   ],
   "source": [
    "plt.plot(hmm.cost)\n",
    "plt.title('Cost function');"
   ]
  },
  {
   "cell_type": "code",
   "execution_count": 508,
   "metadata": {
    "collapsed": false
   },
   "outputs": [
    {
     "data": {
      "image/png": "[encoded data removed]",
      "text/plain": [
       "<matplotlib.figure.Figure at 0x120ac5cc0>"
      ]
     },
     "metadata": {},
     "output_type": "display_data"
    }
   ],
   "source": [
    "plt.plot(hmm.delta.T)\n",
    "plt.title('Estimates update step');"
   ]
  },
  {
   "cell_type": "code",
   "execution_count": 509,
   "metadata": {
    "collapsed": false
   },
   "outputs": [],
   "source": [
    "centers = np.where(X==0)[0]\n",
    "lb = centers - 0.5\n",
    "rb = centers + 0.5\n",
    "spans = np.vstack((lb,rb)).T\n",
    "c1 = spans.T[0][1:]\n",
    "c2 = spans.T[1][:-1]\n",
    "z1 = np.insert(c1[c1!=c2], 0, spans.T[0][0])\n",
    "z2 = np.append(c2[c1!=c2], spans.T[1][-1])\n",
    "spans = np.vstack((z1,z2)).T"
   ]
  },
  {
   "cell_type": "code",
   "execution_count": 510,
   "metadata": {
    "collapsed": false
   },
   "outputs": [
    {
     "data": {
      "image/png": "[encoded data removed]",
      "text/plain": [
       "<matplotlib.figure.Figure at 0x120f3fb38>"
      ]
     },
     "metadata": {},
     "output_type": "display_data"
    }
   ],
   "source": [
    "fig, ax = plt.subplots()\n",
    "fig.set_size_inches(12, 6)\n",
    "ax.plot(hmm.gamma[1], color='blue', lw=3, alpha=0.9, linestyle='dashed')\n",
    "for span in spans:\n",
    "    ax.axvspan(span[0], span[1], alpha=0.5, color='red')\n",
    "plt.ylim(-0.1, 1.1)\n",
    "plt.ylabel('Estimated state probability')\n",
    "plt.xlabel('Timeline')\n",
    "plt.title('Estimated state probability and true state dynamics')\n",
    "plt.xlim(0,50);"
   ]
  },
  {
   "cell_type": "code",
   "execution_count": null,
   "metadata": {
    "collapsed": true
   },
   "outputs": [],
   "source": []
  }
 ],
 "metadata": {
  "kernelspec": {
   "display_name": "Python [Root]",
   "language": "python",
   "name": "Python [Root]"
  },
  "language_info": {
   "codemirror_mode": {
    "name": "ipython",
    "version": 3
   },
   "file_extension": ".py",
   "mimetype": "text/x-python",
   "name": "python",
   "nbconvert_exporter": "python",
   "pygments_lexer": "ipython3",
   "version": "3.5.2"
  }
 },
 "nbformat": 4,
 "nbformat_minor": 0
}
